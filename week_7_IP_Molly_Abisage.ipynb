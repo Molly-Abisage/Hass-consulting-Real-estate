{
  "nbformat": 4,
  "nbformat_minor": 0,
  "metadata": {
    "colab": {
      "name": "week 7 IP Molly_Abisage",
      "provenance": [],
      "collapsed_sections": [],
      "authorship_tag": "ABX9TyM/x+IqBhkWwJpmEoScrdFp",
      "include_colab_link": true
    },
    "kernelspec": {
      "name": "python3",
      "display_name": "Python 3"
    }
  },
  "cells": [
    {
      "cell_type": "markdown",
      "metadata": {
        "id": "view-in-github",
        "colab_type": "text"
      },
      "source": [
        "<a href=\"https://colab.research.google.com/github/Molly-Abisage/Hass-consulting-Real-estate/blob/master/week_7_IP_Molly_Abisage.ipynb\" target=\"_parent\"><img src=\"https://colab.research.google.com/assets/colab-badge.svg\" alt=\"Open In Colab\"/></a>"
      ]
    },
    {
      "cell_type": "markdown",
      "metadata": {
        "id": "BlZNLxbP6ci0",
        "colab_type": "text"
      },
      "source": [
        "**HASS CONSULTING COMPANY-REAL ESTATE**"
      ]
    },
    {
      "cell_type": "markdown",
      "metadata": {
        "id": "B8ucJXwXZIZ7",
        "colab_type": "text"
      },
      "source": [
        " **DEFINING THE QUESTION**"
      ]
    },
    {
      "cell_type": "markdown",
      "metadata": {
        "id": "o5SzUZaEZI8r",
        "colab_type": "text"
      },
      "source": [
        "As a Data Scientist, you work for Hass Consulting Company which is a real estate leader with over 25 years of experience. You have been tasked to study the factors that affect housing prices using the given information on real estate properties that was collected over the past few months. Later onwards, create a model that would allow the company to accurately predict the sale of prices upon being provided with the predictor variables. "
      ]
    },
    {
      "cell_type": "markdown",
      "metadata": {
        "id": "iyT60PrFZoSG",
        "colab_type": "text"
      },
      "source": [
        "**THE METRIC FOR SUCCESS**"
      ]
    },
    {
      "cell_type": "markdown",
      "metadata": {
        "id": "sQcTLVWUZ-Bl",
        "colab_type": "text"
      },
      "source": [
        "Creating a model that can best predict the prices of houses usind regression models."
      ]
    },
    {
      "cell_type": "markdown",
      "metadata": {
        "id": "Wf2iaGmWZ-Es",
        "colab_type": "text"
      },
      "source": [
        "**CONTEXT**"
      ]
    },
    {
      "cell_type": "markdown",
      "metadata": {
        "id": "mX35QIy5al8e",
        "colab_type": "text"
      },
      "source": [
        "The dataset to use for this project can be found by following this link: [http://bit.ly/IndependentProjectWeek7Dataset (Links to an external site.)]. "
      ]
    },
    {
      "cell_type": "markdown",
      "metadata": {
        "id": "siNe5o4CZ_Tu",
        "colab_type": "text"
      },
      "source": [
        "**EXPERIMENTAL DESIGN TAKEN**"
      ]
    },
    {
      "cell_type": "markdown",
      "metadata": {
        "id": "3Gn1FJsKbvS6",
        "colab_type": "text"
      },
      "source": [
        "Define the appropriateness of the available data to answer the given question.\n",
        "\n",
        "Find and deal with outliers, anomalies, and missing data within the dataset.\n",
        "\n",
        "Perform univariate, bivariate and multivariate analysis recording your observations.\n",
        "\n",
        "Performing regression analysis.\n",
        "\n",
        "Incorporate categorical independent variables into your models.\n",
        "\n",
        "Check for multicollinearity\n"
      ]
    },
    {
      "cell_type": "markdown",
      "metadata": {
        "id": "3Uf-hiuDb591",
        "colab_type": "text"
      },
      "source": [
        "# **DATA PREPARATION AND CLEANING**"
      ]
    },
    {
      "cell_type": "markdown",
      "metadata": {
        "id": "77ipaMkZcGJ7",
        "colab_type": "text"
      },
      "source": [
        "**READ AND EXPLORE THE GIVEN DATASET**"
      ]
    },
    {
      "cell_type": "code",
      "metadata": {
        "id": "ZngxSKi9cB4j",
        "colab_type": "code",
        "colab": {
          "base_uri": "https://localhost:8080/",
          "height": 74
        },
        "outputId": "1be59208-3533-4c4a-bff6-3d96f718c565"
      },
      "source": [
        "#IMPORTING THE LIBRARIES TO BE USED\n",
        "\n",
        "import pandas as pd\n",
        "import numpy as np\n",
        "import sklearn\n",
        "import seaborn as sns\n",
        "import matplotlib.pyplot as plt\n",
        "from sklearn.decomposition import PCA\n",
        "\n",
        "from sklearn.model_selection import KFold\n",
        "from sklearn import linear_model\n",
        "from sklearn.metrics import make_scorer\n",
        "from sklearn.ensemble import BaggingRegressor\n",
        "from sklearn.ensemble import RandomForestRegressor\n",
        "from sklearn import svm\n",
        "from sklearn.metrics import r2_score\n",
        "from sklearn.ensemble import AdaBoostRegressor\n",
        "from sklearn.model_selection import cross_val_score\n",
        "from sklearn.tree import DecisionTreeRegressor\n",
        "from sklearn.model_selection import GridSearchCV\n",
        "import matplotlib.pyplot as plt\n",
        "\n",
        "import seaborn\n",
        "import warnings\n",
        "warnings.filterwarnings('ignore')"
      ],
      "execution_count": 1,
      "outputs": [
        {
          "output_type": "stream",
          "text": [
            "/usr/local/lib/python3.6/dist-packages/statsmodels/tools/_testing.py:19: FutureWarning: pandas.util.testing is deprecated. Use the functions in the public API at pandas.testing instead.\n",
            "  import pandas.util.testing as tm\n"
          ],
          "name": "stderr"
        }
      ]
    },
    {
      "cell_type": "code",
      "metadata": {
        "id": "N6AW3wJicB6x",
        "colab_type": "code",
        "colab": {
          "base_uri": "https://localhost:8080/",
          "height": 0
        },
        "outputId": "fecc6fe3-0f32-469b-f3d6-d3ef60b3f024"
      },
      "source": [
        "# load the dataset\n",
        "\n",
        "house_data = pd.read_csv('/content/house_data.csv')\n",
        "house_data.head(5)"
      ],
      "execution_count": 2,
      "outputs": [
        {
          "output_type": "execute_result",
          "data": {
            "text/html": [
              "<div>\n",
              "<style scoped>\n",
              "    .dataframe tbody tr th:only-of-type {\n",
              "        vertical-align: middle;\n",
              "    }\n",
              "\n",
              "    .dataframe tbody tr th {\n",
              "        vertical-align: top;\n",
              "    }\n",
              "\n",
              "    .dataframe thead th {\n",
              "        text-align: right;\n",
              "    }\n",
              "</style>\n",
              "<table border=\"1\" class=\"dataframe\">\n",
              "  <thead>\n",
              "    <tr style=\"text-align: right;\">\n",
              "      <th></th>\n",
              "      <th>id</th>\n",
              "      <th>price</th>\n",
              "      <th>bedrooms</th>\n",
              "      <th>bathrooms</th>\n",
              "      <th>sqft_living</th>\n",
              "      <th>sqft_lot</th>\n",
              "      <th>floors</th>\n",
              "      <th>waterfront</th>\n",
              "      <th>view</th>\n",
              "      <th>condition</th>\n",
              "      <th>grade</th>\n",
              "      <th>sqft_above</th>\n",
              "      <th>sqft_basement</th>\n",
              "      <th>yr_built</th>\n",
              "      <th>yr_renovated</th>\n",
              "      <th>zipcode</th>\n",
              "      <th>lat</th>\n",
              "      <th>long</th>\n",
              "      <th>sqft_living15</th>\n",
              "      <th>sqft_lot15</th>\n",
              "    </tr>\n",
              "  </thead>\n",
              "  <tbody>\n",
              "    <tr>\n",
              "      <th>0</th>\n",
              "      <td>7129300520</td>\n",
              "      <td>221900.0</td>\n",
              "      <td>3</td>\n",
              "      <td>1.00</td>\n",
              "      <td>1180</td>\n",
              "      <td>5650</td>\n",
              "      <td>1.0</td>\n",
              "      <td>0</td>\n",
              "      <td>0</td>\n",
              "      <td>3</td>\n",
              "      <td>7</td>\n",
              "      <td>1180</td>\n",
              "      <td>0</td>\n",
              "      <td>1955</td>\n",
              "      <td>0</td>\n",
              "      <td>98178</td>\n",
              "      <td>47.5112</td>\n",
              "      <td>-122.257</td>\n",
              "      <td>1340</td>\n",
              "      <td>5650</td>\n",
              "    </tr>\n",
              "    <tr>\n",
              "      <th>1</th>\n",
              "      <td>6414100192</td>\n",
              "      <td>538000.0</td>\n",
              "      <td>3</td>\n",
              "      <td>2.25</td>\n",
              "      <td>2570</td>\n",
              "      <td>7242</td>\n",
              "      <td>2.0</td>\n",
              "      <td>0</td>\n",
              "      <td>0</td>\n",
              "      <td>3</td>\n",
              "      <td>7</td>\n",
              "      <td>2170</td>\n",
              "      <td>400</td>\n",
              "      <td>1951</td>\n",
              "      <td>1991</td>\n",
              "      <td>98125</td>\n",
              "      <td>47.7210</td>\n",
              "      <td>-122.319</td>\n",
              "      <td>1690</td>\n",
              "      <td>7639</td>\n",
              "    </tr>\n",
              "    <tr>\n",
              "      <th>2</th>\n",
              "      <td>5631500400</td>\n",
              "      <td>180000.0</td>\n",
              "      <td>2</td>\n",
              "      <td>1.00</td>\n",
              "      <td>770</td>\n",
              "      <td>10000</td>\n",
              "      <td>1.0</td>\n",
              "      <td>0</td>\n",
              "      <td>0</td>\n",
              "      <td>3</td>\n",
              "      <td>6</td>\n",
              "      <td>770</td>\n",
              "      <td>0</td>\n",
              "      <td>1933</td>\n",
              "      <td>0</td>\n",
              "      <td>98028</td>\n",
              "      <td>47.7379</td>\n",
              "      <td>-122.233</td>\n",
              "      <td>2720</td>\n",
              "      <td>8062</td>\n",
              "    </tr>\n",
              "    <tr>\n",
              "      <th>3</th>\n",
              "      <td>2487200875</td>\n",
              "      <td>604000.0</td>\n",
              "      <td>4</td>\n",
              "      <td>3.00</td>\n",
              "      <td>1960</td>\n",
              "      <td>5000</td>\n",
              "      <td>1.0</td>\n",
              "      <td>0</td>\n",
              "      <td>0</td>\n",
              "      <td>5</td>\n",
              "      <td>7</td>\n",
              "      <td>1050</td>\n",
              "      <td>910</td>\n",
              "      <td>1965</td>\n",
              "      <td>0</td>\n",
              "      <td>98136</td>\n",
              "      <td>47.5208</td>\n",
              "      <td>-122.393</td>\n",
              "      <td>1360</td>\n",
              "      <td>5000</td>\n",
              "    </tr>\n",
              "    <tr>\n",
              "      <th>4</th>\n",
              "      <td>1954400510</td>\n",
              "      <td>510000.0</td>\n",
              "      <td>3</td>\n",
              "      <td>2.00</td>\n",
              "      <td>1680</td>\n",
              "      <td>8080</td>\n",
              "      <td>1.0</td>\n",
              "      <td>0</td>\n",
              "      <td>0</td>\n",
              "      <td>3</td>\n",
              "      <td>8</td>\n",
              "      <td>1680</td>\n",
              "      <td>0</td>\n",
              "      <td>1987</td>\n",
              "      <td>0</td>\n",
              "      <td>98074</td>\n",
              "      <td>47.6168</td>\n",
              "      <td>-122.045</td>\n",
              "      <td>1800</td>\n",
              "      <td>7503</td>\n",
              "    </tr>\n",
              "  </tbody>\n",
              "</table>\n",
              "</div>"
            ],
            "text/plain": [
              "           id     price  bedrooms  ...     long  sqft_living15  sqft_lot15\n",
              "0  7129300520  221900.0         3  ... -122.257           1340        5650\n",
              "1  6414100192  538000.0         3  ... -122.319           1690        7639\n",
              "2  5631500400  180000.0         2  ... -122.233           2720        8062\n",
              "3  2487200875  604000.0         4  ... -122.393           1360        5000\n",
              "4  1954400510  510000.0         3  ... -122.045           1800        7503\n",
              "\n",
              "[5 rows x 20 columns]"
            ]
          },
          "metadata": {
            "tags": []
          },
          "execution_count": 2
        }
      ]
    },
    {
      "cell_type": "code",
      "metadata": {
        "id": "3qIuw5rkcB9K",
        "colab_type": "code",
        "colab": {
          "base_uri": "https://localhost:8080/",
          "height": 0
        },
        "outputId": "f08bb4f7-5e8f-48c2-c82c-75d019bcf603"
      },
      "source": [
        "#checking the size\n",
        "\n",
        "house_data.shape"
      ],
      "execution_count": 3,
      "outputs": [
        {
          "output_type": "execute_result",
          "data": {
            "text/plain": [
              "(21613, 20)"
            ]
          },
          "metadata": {
            "tags": []
          },
          "execution_count": 3
        }
      ]
    },
    {
      "cell_type": "code",
      "metadata": {
        "id": "MLVtqmRocCEG",
        "colab_type": "code",
        "colab": {
          "base_uri": "https://localhost:8080/",
          "height": 508
        },
        "outputId": "e480d0e0-0a8f-4b48-b186-98fdebb952aa"
      },
      "source": [
        "#check the datatypes\n",
        "\n",
        "house_data.info()"
      ],
      "execution_count": 4,
      "outputs": [
        {
          "output_type": "stream",
          "text": [
            "<class 'pandas.core.frame.DataFrame'>\n",
            "RangeIndex: 21613 entries, 0 to 21612\n",
            "Data columns (total 20 columns):\n",
            " #   Column         Non-Null Count  Dtype  \n",
            "---  ------         --------------  -----  \n",
            " 0   id             21613 non-null  int64  \n",
            " 1   price          21613 non-null  float64\n",
            " 2   bedrooms       21613 non-null  int64  \n",
            " 3   bathrooms      21613 non-null  float64\n",
            " 4   sqft_living    21613 non-null  int64  \n",
            " 5   sqft_lot       21613 non-null  int64  \n",
            " 6   floors         21613 non-null  float64\n",
            " 7   waterfront     21613 non-null  int64  \n",
            " 8   view           21613 non-null  int64  \n",
            " 9   condition      21613 non-null  int64  \n",
            " 10  grade          21613 non-null  int64  \n",
            " 11  sqft_above     21613 non-null  int64  \n",
            " 12  sqft_basement  21613 non-null  int64  \n",
            " 13  yr_built       21613 non-null  int64  \n",
            " 14  yr_renovated   21613 non-null  int64  \n",
            " 15  zipcode        21613 non-null  int64  \n",
            " 16  lat            21613 non-null  float64\n",
            " 17  long           21613 non-null  float64\n",
            " 18  sqft_living15  21613 non-null  int64  \n",
            " 19  sqft_lot15     21613 non-null  int64  \n",
            "dtypes: float64(5), int64(15)\n",
            "memory usage: 3.3 MB\n"
          ],
          "name": "stdout"
        }
      ]
    },
    {
      "cell_type": "code",
      "metadata": {
        "id": "3qwjvGDIcCI-",
        "colab_type": "code",
        "colab": {
          "base_uri": "https://localhost:8080/",
          "height": 35
        },
        "outputId": "96a5ca7f-0f69-4de9-c84d-513ff0bc9080"
      },
      "source": [
        "#checking for duplicates\n",
        "house_data.duplicated().sum()"
      ],
      "execution_count": 5,
      "outputs": [
        {
          "output_type": "execute_result",
          "data": {
            "text/plain": [
              "3"
            ]
          },
          "metadata": {
            "tags": []
          },
          "execution_count": 5
        }
      ]
    },
    {
      "cell_type": "code",
      "metadata": {
        "id": "qQJRJRgdgww_",
        "colab_type": "code",
        "colab": {
          "base_uri": "https://localhost:8080/",
          "height": 427
        },
        "outputId": "4b20d35c-9bd2-4cd2-d196-ec7a3b9a53cd"
      },
      "source": [
        "#remove the duplicates\n",
        "house_data.drop_duplicates()"
      ],
      "execution_count": 6,
      "outputs": [
        {
          "output_type": "execute_result",
          "data": {
            "text/html": [
              "<div>\n",
              "<style scoped>\n",
              "    .dataframe tbody tr th:only-of-type {\n",
              "        vertical-align: middle;\n",
              "    }\n",
              "\n",
              "    .dataframe tbody tr th {\n",
              "        vertical-align: top;\n",
              "    }\n",
              "\n",
              "    .dataframe thead th {\n",
              "        text-align: right;\n",
              "    }\n",
              "</style>\n",
              "<table border=\"1\" class=\"dataframe\">\n",
              "  <thead>\n",
              "    <tr style=\"text-align: right;\">\n",
              "      <th></th>\n",
              "      <th>id</th>\n",
              "      <th>price</th>\n",
              "      <th>bedrooms</th>\n",
              "      <th>bathrooms</th>\n",
              "      <th>sqft_living</th>\n",
              "      <th>sqft_lot</th>\n",
              "      <th>floors</th>\n",
              "      <th>waterfront</th>\n",
              "      <th>view</th>\n",
              "      <th>condition</th>\n",
              "      <th>grade</th>\n",
              "      <th>sqft_above</th>\n",
              "      <th>sqft_basement</th>\n",
              "      <th>yr_built</th>\n",
              "      <th>yr_renovated</th>\n",
              "      <th>zipcode</th>\n",
              "      <th>lat</th>\n",
              "      <th>long</th>\n",
              "      <th>sqft_living15</th>\n",
              "      <th>sqft_lot15</th>\n",
              "    </tr>\n",
              "  </thead>\n",
              "  <tbody>\n",
              "    <tr>\n",
              "      <th>0</th>\n",
              "      <td>7129300520</td>\n",
              "      <td>221900.0</td>\n",
              "      <td>3</td>\n",
              "      <td>1.00</td>\n",
              "      <td>1180</td>\n",
              "      <td>5650</td>\n",
              "      <td>1.0</td>\n",
              "      <td>0</td>\n",
              "      <td>0</td>\n",
              "      <td>3</td>\n",
              "      <td>7</td>\n",
              "      <td>1180</td>\n",
              "      <td>0</td>\n",
              "      <td>1955</td>\n",
              "      <td>0</td>\n",
              "      <td>98178</td>\n",
              "      <td>47.5112</td>\n",
              "      <td>-122.257</td>\n",
              "      <td>1340</td>\n",
              "      <td>5650</td>\n",
              "    </tr>\n",
              "    <tr>\n",
              "      <th>1</th>\n",
              "      <td>6414100192</td>\n",
              "      <td>538000.0</td>\n",
              "      <td>3</td>\n",
              "      <td>2.25</td>\n",
              "      <td>2570</td>\n",
              "      <td>7242</td>\n",
              "      <td>2.0</td>\n",
              "      <td>0</td>\n",
              "      <td>0</td>\n",
              "      <td>3</td>\n",
              "      <td>7</td>\n",
              "      <td>2170</td>\n",
              "      <td>400</td>\n",
              "      <td>1951</td>\n",
              "      <td>1991</td>\n",
              "      <td>98125</td>\n",
              "      <td>47.7210</td>\n",
              "      <td>-122.319</td>\n",
              "      <td>1690</td>\n",
              "      <td>7639</td>\n",
              "    </tr>\n",
              "    <tr>\n",
              "      <th>2</th>\n",
              "      <td>5631500400</td>\n",
              "      <td>180000.0</td>\n",
              "      <td>2</td>\n",
              "      <td>1.00</td>\n",
              "      <td>770</td>\n",
              "      <td>10000</td>\n",
              "      <td>1.0</td>\n",
              "      <td>0</td>\n",
              "      <td>0</td>\n",
              "      <td>3</td>\n",
              "      <td>6</td>\n",
              "      <td>770</td>\n",
              "      <td>0</td>\n",
              "      <td>1933</td>\n",
              "      <td>0</td>\n",
              "      <td>98028</td>\n",
              "      <td>47.7379</td>\n",
              "      <td>-122.233</td>\n",
              "      <td>2720</td>\n",
              "      <td>8062</td>\n",
              "    </tr>\n",
              "    <tr>\n",
              "      <th>3</th>\n",
              "      <td>2487200875</td>\n",
              "      <td>604000.0</td>\n",
              "      <td>4</td>\n",
              "      <td>3.00</td>\n",
              "      <td>1960</td>\n",
              "      <td>5000</td>\n",
              "      <td>1.0</td>\n",
              "      <td>0</td>\n",
              "      <td>0</td>\n",
              "      <td>5</td>\n",
              "      <td>7</td>\n",
              "      <td>1050</td>\n",
              "      <td>910</td>\n",
              "      <td>1965</td>\n",
              "      <td>0</td>\n",
              "      <td>98136</td>\n",
              "      <td>47.5208</td>\n",
              "      <td>-122.393</td>\n",
              "      <td>1360</td>\n",
              "      <td>5000</td>\n",
              "    </tr>\n",
              "    <tr>\n",
              "      <th>4</th>\n",
              "      <td>1954400510</td>\n",
              "      <td>510000.0</td>\n",
              "      <td>3</td>\n",
              "      <td>2.00</td>\n",
              "      <td>1680</td>\n",
              "      <td>8080</td>\n",
              "      <td>1.0</td>\n",
              "      <td>0</td>\n",
              "      <td>0</td>\n",
              "      <td>3</td>\n",
              "      <td>8</td>\n",
              "      <td>1680</td>\n",
              "      <td>0</td>\n",
              "      <td>1987</td>\n",
              "      <td>0</td>\n",
              "      <td>98074</td>\n",
              "      <td>47.6168</td>\n",
              "      <td>-122.045</td>\n",
              "      <td>1800</td>\n",
              "      <td>7503</td>\n",
              "    </tr>\n",
              "    <tr>\n",
              "      <th>...</th>\n",
              "      <td>...</td>\n",
              "      <td>...</td>\n",
              "      <td>...</td>\n",
              "      <td>...</td>\n",
              "      <td>...</td>\n",
              "      <td>...</td>\n",
              "      <td>...</td>\n",
              "      <td>...</td>\n",
              "      <td>...</td>\n",
              "      <td>...</td>\n",
              "      <td>...</td>\n",
              "      <td>...</td>\n",
              "      <td>...</td>\n",
              "      <td>...</td>\n",
              "      <td>...</td>\n",
              "      <td>...</td>\n",
              "      <td>...</td>\n",
              "      <td>...</td>\n",
              "      <td>...</td>\n",
              "      <td>...</td>\n",
              "    </tr>\n",
              "    <tr>\n",
              "      <th>21608</th>\n",
              "      <td>263000018</td>\n",
              "      <td>360000.0</td>\n",
              "      <td>3</td>\n",
              "      <td>2.50</td>\n",
              "      <td>1530</td>\n",
              "      <td>1131</td>\n",
              "      <td>3.0</td>\n",
              "      <td>0</td>\n",
              "      <td>0</td>\n",
              "      <td>3</td>\n",
              "      <td>8</td>\n",
              "      <td>1530</td>\n",
              "      <td>0</td>\n",
              "      <td>2009</td>\n",
              "      <td>0</td>\n",
              "      <td>98103</td>\n",
              "      <td>47.6993</td>\n",
              "      <td>-122.346</td>\n",
              "      <td>1530</td>\n",
              "      <td>1509</td>\n",
              "    </tr>\n",
              "    <tr>\n",
              "      <th>21609</th>\n",
              "      <td>6600060120</td>\n",
              "      <td>400000.0</td>\n",
              "      <td>4</td>\n",
              "      <td>2.50</td>\n",
              "      <td>2310</td>\n",
              "      <td>5813</td>\n",
              "      <td>2.0</td>\n",
              "      <td>0</td>\n",
              "      <td>0</td>\n",
              "      <td>3</td>\n",
              "      <td>8</td>\n",
              "      <td>2310</td>\n",
              "      <td>0</td>\n",
              "      <td>2014</td>\n",
              "      <td>0</td>\n",
              "      <td>98146</td>\n",
              "      <td>47.5107</td>\n",
              "      <td>-122.362</td>\n",
              "      <td>1830</td>\n",
              "      <td>7200</td>\n",
              "    </tr>\n",
              "    <tr>\n",
              "      <th>21610</th>\n",
              "      <td>1523300141</td>\n",
              "      <td>402101.0</td>\n",
              "      <td>2</td>\n",
              "      <td>0.75</td>\n",
              "      <td>1020</td>\n",
              "      <td>1350</td>\n",
              "      <td>2.0</td>\n",
              "      <td>0</td>\n",
              "      <td>0</td>\n",
              "      <td>3</td>\n",
              "      <td>7</td>\n",
              "      <td>1020</td>\n",
              "      <td>0</td>\n",
              "      <td>2009</td>\n",
              "      <td>0</td>\n",
              "      <td>98144</td>\n",
              "      <td>47.5944</td>\n",
              "      <td>-122.299</td>\n",
              "      <td>1020</td>\n",
              "      <td>2007</td>\n",
              "    </tr>\n",
              "    <tr>\n",
              "      <th>21611</th>\n",
              "      <td>291310100</td>\n",
              "      <td>400000.0</td>\n",
              "      <td>3</td>\n",
              "      <td>2.50</td>\n",
              "      <td>1600</td>\n",
              "      <td>2388</td>\n",
              "      <td>2.0</td>\n",
              "      <td>0</td>\n",
              "      <td>0</td>\n",
              "      <td>3</td>\n",
              "      <td>8</td>\n",
              "      <td>1600</td>\n",
              "      <td>0</td>\n",
              "      <td>2004</td>\n",
              "      <td>0</td>\n",
              "      <td>98027</td>\n",
              "      <td>47.5345</td>\n",
              "      <td>-122.069</td>\n",
              "      <td>1410</td>\n",
              "      <td>1287</td>\n",
              "    </tr>\n",
              "    <tr>\n",
              "      <th>21612</th>\n",
              "      <td>1523300157</td>\n",
              "      <td>325000.0</td>\n",
              "      <td>2</td>\n",
              "      <td>0.75</td>\n",
              "      <td>1020</td>\n",
              "      <td>1076</td>\n",
              "      <td>2.0</td>\n",
              "      <td>0</td>\n",
              "      <td>0</td>\n",
              "      <td>3</td>\n",
              "      <td>7</td>\n",
              "      <td>1020</td>\n",
              "      <td>0</td>\n",
              "      <td>2008</td>\n",
              "      <td>0</td>\n",
              "      <td>98144</td>\n",
              "      <td>47.5941</td>\n",
              "      <td>-122.299</td>\n",
              "      <td>1020</td>\n",
              "      <td>1357</td>\n",
              "    </tr>\n",
              "  </tbody>\n",
              "</table>\n",
              "<p>21610 rows × 20 columns</p>\n",
              "</div>"
            ],
            "text/plain": [
              "               id     price  bedrooms  ...     long  sqft_living15  sqft_lot15\n",
              "0      7129300520  221900.0         3  ... -122.257           1340        5650\n",
              "1      6414100192  538000.0         3  ... -122.319           1690        7639\n",
              "2      5631500400  180000.0         2  ... -122.233           2720        8062\n",
              "3      2487200875  604000.0         4  ... -122.393           1360        5000\n",
              "4      1954400510  510000.0         3  ... -122.045           1800        7503\n",
              "...           ...       ...       ...  ...      ...            ...         ...\n",
              "21608   263000018  360000.0         3  ... -122.346           1530        1509\n",
              "21609  6600060120  400000.0         4  ... -122.362           1830        7200\n",
              "21610  1523300141  402101.0         2  ... -122.299           1020        2007\n",
              "21611   291310100  400000.0         3  ... -122.069           1410        1287\n",
              "21612  1523300157  325000.0         2  ... -122.299           1020        1357\n",
              "\n",
              "[21610 rows x 20 columns]"
            ]
          },
          "metadata": {
            "tags": []
          },
          "execution_count": 6
        }
      ]
    },
    {
      "cell_type": "code",
      "metadata": {
        "id": "x3PFDGUhcCLx",
        "colab_type": "code",
        "colab": {
          "base_uri": "https://localhost:8080/",
          "height": 399
        },
        "outputId": "965e7a66-6269-45a6-b57a-24c8a0065785"
      },
      "source": [
        "#checking for null values\n",
        "\n",
        "house_data.isnull().sum()\n",
        "#no null values"
      ],
      "execution_count": 7,
      "outputs": [
        {
          "output_type": "execute_result",
          "data": {
            "text/plain": [
              "id               0\n",
              "price            0\n",
              "bedrooms         0\n",
              "bathrooms        0\n",
              "sqft_living      0\n",
              "sqft_lot         0\n",
              "floors           0\n",
              "waterfront       0\n",
              "view             0\n",
              "condition        0\n",
              "grade            0\n",
              "sqft_above       0\n",
              "sqft_basement    0\n",
              "yr_built         0\n",
              "yr_renovated     0\n",
              "zipcode          0\n",
              "lat              0\n",
              "long             0\n",
              "sqft_living15    0\n",
              "sqft_lot15       0\n",
              "dtype: int64"
            ]
          },
          "metadata": {
            "tags": []
          },
          "execution_count": 7
        }
      ]
    },
    {
      "cell_type": "code",
      "metadata": {
        "id": "eH9Jna7ekwem",
        "colab_type": "code",
        "colab": {
          "base_uri": "https://localhost:8080/",
          "height": 108
        },
        "outputId": "48d6c4ed-a656-4be2-efdb-7f9fd8c0a952"
      },
      "source": [
        "#checking the column names\n",
        "house_data.columns"
      ],
      "execution_count": 8,
      "outputs": [
        {
          "output_type": "execute_result",
          "data": {
            "text/plain": [
              "Index(['id', 'price', 'bedrooms', 'bathrooms', 'sqft_living', 'sqft_lot',\n",
              "       'floors', 'waterfront', 'view', 'condition', 'grade', 'sqft_above',\n",
              "       'sqft_basement', 'yr_built', 'yr_renovated', 'zipcode', 'lat', 'long',\n",
              "       'sqft_living15', 'sqft_lot15'],\n",
              "      dtype='object')"
            ]
          },
          "metadata": {
            "tags": []
          },
          "execution_count": 8
        }
      ]
    },
    {
      "cell_type": "code",
      "metadata": {
        "id": "WpTKMFGicCQb",
        "colab_type": "code",
        "colab": {
          "base_uri": "https://localhost:8080/",
          "height": 350
        },
        "outputId": "f79e4971-6758-43fd-9da1-dd35bc2364ad"
      },
      "source": [
        "#checking the outliers in the dataset using boxplot\n",
        "column_list=['price', 'bedrooms', 'floors', 'bathrooms', 'condition']\n",
        "color = ['red', 'green', 'yellow', 'blue', 'indigo']\n",
        "\n",
        "fig, axes = plt.subplots(nrows = 2, ncols = 3, figsize = (15, 7))\n",
        "plt.suptitle('outliers boxplots', fontsize = 15, y = 0.92, color = 'indigo')\n",
        "for ax,data, column, color in zip(axes.flatten(), house_data, column_list, color):\n",
        "  sns.boxplot(house_data[column], ax = ax, color = color)\n",
        "  ax.set_facecolor('white') \n",
        " "
      ],
      "execution_count": 10,
      "outputs": [
        {
          "output_type": "display_data",
          "data": {
            "image/png": "[encoded data removed]",
            "text/plain": [
              "<Figure size 1080x504 with 6 Axes>"
            ]
          },
          "metadata": {
            "tags": [],
            "needs_background": "light"
          }
        }
      ]
    },
    {
      "cell_type": "markdown",
      "metadata": {
        "id": "6QfCry4iBZUU",
        "colab_type": "text"
      },
      "source": [
        "the outliers are important in the dataset since they occupy most of the data and we dont remove them"
      ]
    },
    {
      "cell_type": "markdown",
      "metadata": {
        "id": "pOBxsIzvB5z9",
        "colab_type": "text"
      },
      "source": [
        "# **EXPLORATORY DATA ANALYSIS**"
      ]
    },
    {
      "cell_type": "markdown",
      "metadata": {
        "id": "9qwPnRVoCC-F",
        "colab_type": "text"
      },
      "source": [
        "**UNIVARIATE ANALYSIS**"
      ]
    },
    {
      "cell_type": "code",
      "metadata": {
        "id": "kTrMG6sPcCXx",
        "colab_type": "code",
        "colab": {
          "base_uri": "https://localhost:8080/",
          "height": 308
        },
        "outputId": "51708508-4437-4047-9ad5-3ea593dab8c6"
      },
      "source": [
        "# Lets describe the dataset \n",
        "\n",
        "house_data.describe()"
      ],
      "execution_count": 11,
      "outputs": [
        {
          "output_type": "execute_result",
          "data": {
            "text/html": [
              "<div>\n",
              "<style scoped>\n",
              "    .dataframe tbody tr th:only-of-type {\n",
              "        vertical-align: middle;\n",
              "    }\n",
              "\n",
              "    .dataframe tbody tr th {\n",
              "        vertical-align: top;\n",
              "    }\n",
              "\n",
              "    .dataframe thead th {\n",
              "        text-align: right;\n",
              "    }\n",
              "</style>\n",
              "<table border=\"1\" class=\"dataframe\">\n",
              "  <thead>\n",
              "    <tr style=\"text-align: right;\">\n",
              "      <th></th>\n",
              "      <th>id</th>\n",
              "      <th>price</th>\n",
              "      <th>bedrooms</th>\n",
              "      <th>bathrooms</th>\n",
              "      <th>sqft_living</th>\n",
              "      <th>sqft_lot</th>\n",
              "      <th>floors</th>\n",
              "      <th>waterfront</th>\n",
              "      <th>view</th>\n",
              "      <th>condition</th>\n",
              "      <th>grade</th>\n",
              "      <th>sqft_above</th>\n",
              "      <th>sqft_basement</th>\n",
              "      <th>yr_built</th>\n",
              "      <th>yr_renovated</th>\n",
              "      <th>zipcode</th>\n",
              "      <th>lat</th>\n",
              "      <th>long</th>\n",
              "      <th>sqft_living15</th>\n",
              "      <th>sqft_lot15</th>\n",
              "    </tr>\n",
              "  </thead>\n",
              "  <tbody>\n",
              "    <tr>\n",
              "      <th>count</th>\n",
              "      <td>2.161300e+04</td>\n",
              "      <td>2.161300e+04</td>\n",
              "      <td>21613.000000</td>\n",
              "      <td>21613.000000</td>\n",
              "      <td>21613.000000</td>\n",
              "      <td>2.161300e+04</td>\n",
              "      <td>21613.000000</td>\n",
              "      <td>21613.000000</td>\n",
              "      <td>21613.000000</td>\n",
              "      <td>21613.000000</td>\n",
              "      <td>21613.000000</td>\n",
              "      <td>21613.000000</td>\n",
              "      <td>21613.000000</td>\n",
              "      <td>21613.000000</td>\n",
              "      <td>21613.000000</td>\n",
              "      <td>21613.000000</td>\n",
              "      <td>21613.000000</td>\n",
              "      <td>21613.000000</td>\n",
              "      <td>21613.000000</td>\n",
              "      <td>21613.000000</td>\n",
              "    </tr>\n",
              "    <tr>\n",
              "      <th>mean</th>\n",
              "      <td>4.580302e+09</td>\n",
              "      <td>5.401822e+05</td>\n",
              "      <td>3.370842</td>\n",
              "      <td>2.114757</td>\n",
              "      <td>2079.899736</td>\n",
              "      <td>1.510697e+04</td>\n",
              "      <td>1.494309</td>\n",
              "      <td>0.007542</td>\n",
              "      <td>0.234303</td>\n",
              "      <td>3.409430</td>\n",
              "      <td>7.656873</td>\n",
              "      <td>1788.390691</td>\n",
              "      <td>291.509045</td>\n",
              "      <td>1971.005136</td>\n",
              "      <td>84.402258</td>\n",
              "      <td>98077.939805</td>\n",
              "      <td>47.560053</td>\n",
              "      <td>-122.213896</td>\n",
              "      <td>1986.552492</td>\n",
              "      <td>12768.455652</td>\n",
              "    </tr>\n",
              "    <tr>\n",
              "      <th>std</th>\n",
              "      <td>2.876566e+09</td>\n",
              "      <td>3.673622e+05</td>\n",
              "      <td>0.930062</td>\n",
              "      <td>0.770163</td>\n",
              "      <td>918.440897</td>\n",
              "      <td>4.142051e+04</td>\n",
              "      <td>0.539989</td>\n",
              "      <td>0.086517</td>\n",
              "      <td>0.766318</td>\n",
              "      <td>0.650743</td>\n",
              "      <td>1.175459</td>\n",
              "      <td>828.090978</td>\n",
              "      <td>442.575043</td>\n",
              "      <td>29.373411</td>\n",
              "      <td>401.679240</td>\n",
              "      <td>53.505026</td>\n",
              "      <td>0.138564</td>\n",
              "      <td>0.140828</td>\n",
              "      <td>685.391304</td>\n",
              "      <td>27304.179631</td>\n",
              "    </tr>\n",
              "    <tr>\n",
              "      <th>min</th>\n",
              "      <td>1.000102e+06</td>\n",
              "      <td>7.500000e+04</td>\n",
              "      <td>0.000000</td>\n",
              "      <td>0.000000</td>\n",
              "      <td>290.000000</td>\n",
              "      <td>5.200000e+02</td>\n",
              "      <td>1.000000</td>\n",
              "      <td>0.000000</td>\n",
              "      <td>0.000000</td>\n",
              "      <td>1.000000</td>\n",
              "      <td>1.000000</td>\n",
              "      <td>290.000000</td>\n",
              "      <td>0.000000</td>\n",
              "      <td>1900.000000</td>\n",
              "      <td>0.000000</td>\n",
              "      <td>98001.000000</td>\n",
              "      <td>47.155900</td>\n",
              "      <td>-122.519000</td>\n",
              "      <td>399.000000</td>\n",
              "      <td>651.000000</td>\n",
              "    </tr>\n",
              "    <tr>\n",
              "      <th>25%</th>\n",
              "      <td>2.123049e+09</td>\n",
              "      <td>3.219500e+05</td>\n",
              "      <td>3.000000</td>\n",
              "      <td>1.750000</td>\n",
              "      <td>1427.000000</td>\n",
              "      <td>5.040000e+03</td>\n",
              "      <td>1.000000</td>\n",
              "      <td>0.000000</td>\n",
              "      <td>0.000000</td>\n",
              "      <td>3.000000</td>\n",
              "      <td>7.000000</td>\n",
              "      <td>1190.000000</td>\n",
              "      <td>0.000000</td>\n",
              "      <td>1951.000000</td>\n",
              "      <td>0.000000</td>\n",
              "      <td>98033.000000</td>\n",
              "      <td>47.471000</td>\n",
              "      <td>-122.328000</td>\n",
              "      <td>1490.000000</td>\n",
              "      <td>5100.000000</td>\n",
              "    </tr>\n",
              "    <tr>\n",
              "      <th>50%</th>\n",
              "      <td>3.904930e+09</td>\n",
              "      <td>4.500000e+05</td>\n",
              "      <td>3.000000</td>\n",
              "      <td>2.250000</td>\n",
              "      <td>1910.000000</td>\n",
              "      <td>7.618000e+03</td>\n",
              "      <td>1.500000</td>\n",
              "      <td>0.000000</td>\n",
              "      <td>0.000000</td>\n",
              "      <td>3.000000</td>\n",
              "      <td>7.000000</td>\n",
              "      <td>1560.000000</td>\n",
              "      <td>0.000000</td>\n",
              "      <td>1975.000000</td>\n",
              "      <td>0.000000</td>\n",
              "      <td>98065.000000</td>\n",
              "      <td>47.571800</td>\n",
              "      <td>-122.230000</td>\n",
              "      <td>1840.000000</td>\n",
              "      <td>7620.000000</td>\n",
              "    </tr>\n",
              "    <tr>\n",
              "      <th>75%</th>\n",
              "      <td>7.308900e+09</td>\n",
              "      <td>6.450000e+05</td>\n",
              "      <td>4.000000</td>\n",
              "      <td>2.500000</td>\n",
              "      <td>2550.000000</td>\n",
              "      <td>1.068800e+04</td>\n",
              "      <td>2.000000</td>\n",
              "      <td>0.000000</td>\n",
              "      <td>0.000000</td>\n",
              "      <td>4.000000</td>\n",
              "      <td>8.000000</td>\n",
              "      <td>2210.000000</td>\n",
              "      <td>560.000000</td>\n",
              "      <td>1997.000000</td>\n",
              "      <td>0.000000</td>\n",
              "      <td>98118.000000</td>\n",
              "      <td>47.678000</td>\n",
              "      <td>-122.125000</td>\n",
              "      <td>2360.000000</td>\n",
              "      <td>10083.000000</td>\n",
              "    </tr>\n",
              "    <tr>\n",
              "      <th>max</th>\n",
              "      <td>9.900000e+09</td>\n",
              "      <td>7.700000e+06</td>\n",
              "      <td>33.000000</td>\n",
              "      <td>8.000000</td>\n",
              "      <td>13540.000000</td>\n",
              "      <td>1.651359e+06</td>\n",
              "      <td>3.500000</td>\n",
              "      <td>1.000000</td>\n",
              "      <td>4.000000</td>\n",
              "      <td>5.000000</td>\n",
              "      <td>13.000000</td>\n",
              "      <td>9410.000000</td>\n",
              "      <td>4820.000000</td>\n",
              "      <td>2015.000000</td>\n",
              "      <td>2015.000000</td>\n",
              "      <td>98199.000000</td>\n",
              "      <td>47.777600</td>\n",
              "      <td>-121.315000</td>\n",
              "      <td>6210.000000</td>\n",
              "      <td>871200.000000</td>\n",
              "    </tr>\n",
              "  </tbody>\n",
              "</table>\n",
              "</div>"
            ],
            "text/plain": [
              "                 id         price  ...  sqft_living15     sqft_lot15\n",
              "count  2.161300e+04  2.161300e+04  ...   21613.000000   21613.000000\n",
              "mean   4.580302e+09  5.401822e+05  ...    1986.552492   12768.455652\n",
              "std    2.876566e+09  3.673622e+05  ...     685.391304   27304.179631\n",
              "min    1.000102e+06  7.500000e+04  ...     399.000000     651.000000\n",
              "25%    2.123049e+09  3.219500e+05  ...    1490.000000    5100.000000\n",
              "50%    3.904930e+09  4.500000e+05  ...    1840.000000    7620.000000\n",
              "75%    7.308900e+09  6.450000e+05  ...    2360.000000   10083.000000\n",
              "max    9.900000e+09  7.700000e+06  ...    6210.000000  871200.000000\n",
              "\n",
              "[8 rows x 20 columns]"
            ]
          },
          "metadata": {
            "tags": []
          },
          "execution_count": 11
        }
      ]
    },
    {
      "cell_type": "code",
      "metadata": {
        "id": "CI5a-vXOcCWh",
        "colab_type": "code",
        "colab": {
          "base_uri": "https://localhost:8080/",
          "height": 198
        },
        "outputId": "cd66d407-59c3-432b-d343-69edee9ac6e3"
      },
      "source": [
        "# let us pick the relevant columns\n",
        "\n",
        "col=['price', 'bedrooms', 'floors', 'grade', 'condition', 'long', 'lat']\n",
        "house_data1=house_data[col]\n",
        "house_data1.head()"
      ],
      "execution_count": 58,
      "outputs": [
        {
          "output_type": "execute_result",
          "data": {
            "text/html": [
              "<div>\n",
              "<style scoped>\n",
              "    .dataframe tbody tr th:only-of-type {\n",
              "        vertical-align: middle;\n",
              "    }\n",
              "\n",
              "    .dataframe tbody tr th {\n",
              "        vertical-align: top;\n",
              "    }\n",
              "\n",
              "    .dataframe thead th {\n",
              "        text-align: right;\n",
              "    }\n",
              "</style>\n",
              "<table border=\"1\" class=\"dataframe\">\n",
              "  <thead>\n",
              "    <tr style=\"text-align: right;\">\n",
              "      <th></th>\n",
              "      <th>price</th>\n",
              "      <th>bedrooms</th>\n",
              "      <th>floors</th>\n",
              "      <th>grade</th>\n",
              "      <th>condition</th>\n",
              "      <th>long</th>\n",
              "      <th>lat</th>\n",
              "    </tr>\n",
              "  </thead>\n",
              "  <tbody>\n",
              "    <tr>\n",
              "      <th>0</th>\n",
              "      <td>221900.0</td>\n",
              "      <td>3</td>\n",
              "      <td>1.0</td>\n",
              "      <td>7</td>\n",
              "      <td>3</td>\n",
              "      <td>-122.257</td>\n",
              "      <td>47.5112</td>\n",
              "    </tr>\n",
              "    <tr>\n",
              "      <th>1</th>\n",
              "      <td>538000.0</td>\n",
              "      <td>3</td>\n",
              "      <td>2.0</td>\n",
              "      <td>7</td>\n",
              "      <td>3</td>\n",
              "      <td>-122.319</td>\n",
              "      <td>47.7210</td>\n",
              "    </tr>\n",
              "    <tr>\n",
              "      <th>2</th>\n",
              "      <td>180000.0</td>\n",
              "      <td>2</td>\n",
              "      <td>1.0</td>\n",
              "      <td>6</td>\n",
              "      <td>3</td>\n",
              "      <td>-122.233</td>\n",
              "      <td>47.7379</td>\n",
              "    </tr>\n",
              "    <tr>\n",
              "      <th>3</th>\n",
              "      <td>604000.0</td>\n",
              "      <td>4</td>\n",
              "      <td>1.0</td>\n",
              "      <td>7</td>\n",
              "      <td>5</td>\n",
              "      <td>-122.393</td>\n",
              "      <td>47.5208</td>\n",
              "    </tr>\n",
              "    <tr>\n",
              "      <th>4</th>\n",
              "      <td>510000.0</td>\n",
              "      <td>3</td>\n",
              "      <td>1.0</td>\n",
              "      <td>8</td>\n",
              "      <td>3</td>\n",
              "      <td>-122.045</td>\n",
              "      <td>47.6168</td>\n",
              "    </tr>\n",
              "  </tbody>\n",
              "</table>\n",
              "</div>"
            ],
            "text/plain": [
              "      price  bedrooms  floors  grade  condition     long      lat\n",
              "0  221900.0         3     1.0      7          3 -122.257  47.5112\n",
              "1  538000.0         3     2.0      7          3 -122.319  47.7210\n",
              "2  180000.0         2     1.0      6          3 -122.233  47.7379\n",
              "3  604000.0         4     1.0      7          5 -122.393  47.5208\n",
              "4  510000.0         3     1.0      8          3 -122.045  47.6168"
            ]
          },
          "metadata": {
            "tags": []
          },
          "execution_count": 58
        }
      ]
    },
    {
      "cell_type": "code",
      "metadata": {
        "id": "C647Ek8ZcCOW",
        "colab_type": "code",
        "colab": {
          "base_uri": "https://localhost:8080/",
          "height": 1000
        },
        "outputId": "70231d53-9e07-4dac-e088-f482538f8ee0"
      },
      "source": [
        "#checking out the univariate data in the new data: mean,median,range,quartile, kurtosis and skewness\n",
        "my_col = ['price', 'bedrooms', 'floors', 'grade', 'condition', 'long', 'lat' ]\n",
        "for i, col_val in enumerate(my_col):\n",
        "    print(\"Mean:\", house_data1[col_val].mean())\n",
        "    print(\"Mode:\", house_data1[col_val].mode())\n",
        "    print(\"Median:\", house_data1[col_val].median())\n",
        "    print(\"SD:\", house_data1[col_val].std())\n",
        "    print(\"Variance:\", house_data1[col_val].var())\n",
        "    print(\"Quartiles:\", house_data1[col_val].quantile([0.25,0.5,0.75]))\n",
        "    print(\"Skewness:\", house_data1[col_val].skew())\n",
        "    print(\"Kurtosis:\", house_data1[col_val].kurt())\n",
        "    print(\"******\")"
      ],
      "execution_count": 59,
      "outputs": [
        {
          "output_type": "stream",
          "text": [
            "Mean: 540182.1587933188\n",
            "Mode: 0    350000.0\n",
            "1    450000.0\n",
            "dtype: float64\n",
            "Median: 450000.0\n",
            "SD: 367362.23171800975\n",
            "Variance: 134955009292.83669\n",
            "Quartiles: 0.25    321950.0\n",
            "0.50    450000.0\n",
            "0.75    645000.0\n",
            "Name: price, dtype: float64\n",
            "Skewness: 4.021715573048684\n",
            "Kurtosis: 34.522444410072566\n",
            "******\n",
            "Mean: 3.37084162309721\n",
            "Mode: 0    3\n",
            "dtype: int64\n",
            "Median: 3.0\n",
            "SD: 0.9300618311474632\n",
            "Variance: 0.8650150097573724\n",
            "Quartiles: 0.25    3.0\n",
            "0.50    3.0\n",
            "0.75    4.0\n",
            "Name: bedrooms, dtype: float64\n",
            "Skewness: 1.97429953543601\n",
            "Kurtosis: 49.06365318170099\n",
            "******\n",
            "Mean: 1.4943089807060566\n",
            "Mode: 0    1.0\n",
            "dtype: float64\n",
            "Median: 1.5\n",
            "SD: 0.5399888951423824\n",
            "Variance: 0.29158800687709074\n",
            "Quartiles: 0.25    1.0\n",
            "0.50    1.5\n",
            "0.75    2.0\n",
            "Name: floors, dtype: float64\n",
            "Skewness: 0.616176721157611\n",
            "Kurtosis: -0.4847229368298285\n",
            "******\n",
            "Mean: 7.656873178179799\n",
            "Mode: 0    7\n",
            "dtype: int64\n",
            "Median: 7.0\n",
            "SD: 1.1754587569743042\n",
            "Variance: 1.3817032893475767\n",
            "Quartiles: 0.25    7.0\n",
            "0.50    7.0\n",
            "0.75    8.0\n",
            "Name: grade, dtype: float64\n",
            "Skewness: 0.7711032007576067\n",
            "Kurtosis: 1.1909320773987657\n",
            "******\n",
            "Mean: 3.4094295100171195\n",
            "Mode: 0    3\n",
            "dtype: int64\n",
            "Median: 3.0\n",
            "SD: 0.6507430463662665\n",
            "Variance: 0.42346651239404876\n",
            "Quartiles: 0.25    3.0\n",
            "0.50    3.0\n",
            "0.75    4.0\n",
            "Name: condition, dtype: float64\n",
            "Skewness: 1.0328046374434587\n",
            "Kurtosis: 0.5257635652845423\n",
            "******\n",
            "Mean: -122.21389640494083\n",
            "Mode: 0   -122.29\n",
            "dtype: float64\n",
            "Median: -122.23\n",
            "SD: 0.14082834238139227\n",
            "Variance: 0.019832622017890645\n",
            "Quartiles: 0.25   -122.328\n",
            "0.50   -122.230\n",
            "0.75   -122.125\n",
            "Name: long, dtype: float64\n",
            "Skewness: 0.8850529834328087\n",
            "Kurtosis: 1.0495008872914617\n",
            "******\n",
            "Mean: 47.56005251931704\n",
            "Mode: 0    47.5322\n",
            "1    47.5491\n",
            "2    47.6624\n",
            "3    47.6846\n",
            "dtype: float64\n",
            "Median: 47.5718\n",
            "SD: 0.1385637102419246\n",
            "Variance: 0.01919990179600804\n",
            "Quartiles: 0.25    47.4710\n",
            "0.50    47.5718\n",
            "0.75    47.6780\n",
            "Name: lat, dtype: float64\n",
            "Skewness: -0.4852704765380861\n",
            "Kurtosis: -0.6763130016065335\n",
            "******\n"
          ],
          "name": "stdout"
        }
      ]
    },
    {
      "cell_type": "code",
      "metadata": {
        "id": "aHBHrIcBb_ff",
        "colab_type": "code",
        "colab": {
          "base_uri": "https://localhost:8080/",
          "height": 308
        },
        "outputId": "a0ea5735-fc0f-4cf6-e084-20ceca184432"
      },
      "source": [
        "# Ditribution plot for price column\n",
        "\n",
        "sns.distplot(house_data1['price'], kde= True,color='red')"
      ],
      "execution_count": 14,
      "outputs": [
        {
          "output_type": "execute_result",
          "data": {
            "text/plain": [
              "<matplotlib.axes._subplots.AxesSubplot at 0x7f2140535b38>"
            ]
          },
          "metadata": {
            "tags": []
          },
          "execution_count": 14
        },
        {
          "output_type": "display_data",
          "data": {
            "image/png": "[encoded data removed]",
            "text/plain": [
              "<Figure size 432x288 with 1 Axes>"
            ]
          },
          "metadata": {
            "tags": [],
            "needs_background": "light"
          }
        }
      ]
    },
    {
      "cell_type": "code",
      "metadata": {
        "id": "v8Pa964Pd1FR",
        "colab_type": "code",
        "colab": {
          "base_uri": "https://localhost:8080/",
          "height": 680
        },
        "outputId": "af4ae29a-8bfb-406a-8d64-f79b3602edf1"
      },
      "source": [
        "house_data1.hist(bins=10, figsize=(15,15))\n",
        "plt.suptitle(\"Histogram of numeric variables in house_data1 dataset\")\n",
        "plt.savefig('Histogram')\n",
        "plt.show()"
      ],
      "execution_count": 60,
      "outputs": [
        {
          "output_type": "display_data",
          "data": {
            "image/png": "[encoded data removed]",
            "text/plain": [
              "<Figure size 1080x1080 with 9 Axes>"
            ]
          },
          "metadata": {
            "tags": []
          }
        }
      ]
    },
    {
      "cell_type": "code",
      "metadata": {
        "id": "03g-WtiacCGw",
        "colab_type": "code",
        "colab": {
          "base_uri": "https://localhost:8080/",
          "height": 340
        },
        "outputId": "9557e1ae-9c3a-463c-941e-9e741592e94d"
      },
      "source": [
        "#lets plot a Q-Q for bedrooms and bathrooms\n",
        "\n",
        "from statsmodels.graphics.gofplots import qqplot\n",
        "from matplotlib import pyplot\n",
        "from scipy.stats import shapiro\n",
        "\n",
        "qqplot(house_data1['bedrooms'], line='s')\n",
        "pyplot.show()\n",
        "stat, p = shapiro(house_data1['bedrooms'])\n",
        "print('Statistics=%.4f, p=%.4f' %(stat, p))\n",
        "alpha = 0.05\n",
        "if p > alpha:\n",
        "\tprint('Sample looks Gaussian')\n",
        "else:\n",
        "\tprint('Sample does not look Gaussian')"
      ],
      "execution_count": 37,
      "outputs": [
        {
          "output_type": "display_data",
          "data": {
            "image/png": "[encoded data removed]",
            "text/plain": [
              "<Figure size 432x288 with 1 Axes>"
            ]
          },
          "metadata": {
            "tags": []
          }
        },
        {
          "output_type": "stream",
          "text": [
            "Statistics=0.8490, p=0.0000\n",
            "Sample does not look Gaussian\n"
          ],
          "name": "stdout"
        }
      ]
    },
    {
      "cell_type": "code",
      "metadata": {
        "id": "0a9WrHc4cCBp",
        "colab_type": "code",
        "colab": {
          "base_uri": "https://localhost:8080/",
          "height": 340
        },
        "outputId": "542b8a4c-f792-45d3-9394-7c591312a92e"
      },
      "source": [
        "#Q-Q for bathrooms\n",
        "qqplot(house_data1['lat'], line='s')\n",
        "pyplot.show()\n",
        "stat, p = shapiro(house_data1['lat'])\n",
        "print('Statistics=%.4f, p=%.4f' %(stat, p))\n",
        "alpha = 0.05\n",
        "if p > alpha:\n",
        "\tprint('Sample looks Gaussian')\n",
        "else:\n",
        "\tprint('Sample does not look Gaussian')"
      ],
      "execution_count": 62,
      "outputs": [
        {
          "output_type": "display_data",
          "data": {
            "image/png": "[encoded data removed]",
            "text/plain": [
              "<Figure size 432x288 with 1 Axes>"
            ]
          },
          "metadata": {
            "tags": []
          }
        },
        {
          "output_type": "stream",
          "text": [
            "Statistics=0.9566, p=0.0000\n",
            "Sample does not look Gaussian\n"
          ],
          "name": "stdout"
        }
      ]
    },
    {
      "cell_type": "markdown",
      "metadata": {
        "id": "_zJgKQHQJo1V",
        "colab_type": "text"
      },
      "source": [
        "**BIVARIATE ANALYSIS**"
      ]
    },
    {
      "cell_type": "code",
      "metadata": {
        "id": "pt2MvPdMJmA4",
        "colab_type": "code",
        "colab": {
          "base_uri": "https://localhost:8080/",
          "height": 385
        },
        "outputId": "81086386-e766-4b56-a6d1-4e3c1acf7496"
      },
      "source": [
        "#For bivariate we check the scatterplots to show price vs floors\n",
        "\n",
        "import matplotlib.style as style\n",
        "\n",
        "def customized_scatterplot(y, x):\n",
        "        ## Sizing the plot. \n",
        "    style.use('fivethirtyeight')\n",
        "    plt.subplots(figsize = (10,5))\n",
        "    \n",
        "    ## Plotting target variable with predictor variable()\n",
        "    sns.scatterplot(y = y, x = x);\n",
        "customized_scatterplot(house_data1.price, house_data1.floors)\n",
        "plt.title('Price vs Floors')"
      ],
      "execution_count": 40,
      "outputs": [
        {
          "output_type": "execute_result",
          "data": {
            "text/plain": [
              "Text(0.5, 1.0, 'Price vs Floors')"
            ]
          },
          "metadata": {
            "tags": []
          },
          "execution_count": 40
        },
        {
          "output_type": "display_data",
          "data": {
            "image/png": "[encoded data removed]",
            "text/plain": [
              "<Figure size 720x360 with 1 Axes>"
            ]
          },
          "metadata": {
            "tags": []
          }
        }
      ]
    },
    {
      "cell_type": "code",
      "metadata": {
        "id": "K3MfERKvL2Zi",
        "colab_type": "code",
        "colab": {
          "base_uri": "https://localhost:8080/",
          "height": 385
        },
        "outputId": "aec8b804-a90c-4321-ab3f-ff2e8a098266"
      },
      "source": [
        "#scatterplot of bedrooms vs prices\n",
        "\n",
        "customized_scatterplot(house_data1.price, house_data1.bedrooms);\n",
        "plt.title('Price vs bedrooms')"
      ],
      "execution_count": 41,
      "outputs": [
        {
          "output_type": "execute_result",
          "data": {
            "text/plain": [
              "Text(0.5, 1.0, 'Price vs bedrooms')"
            ]
          },
          "metadata": {
            "tags": []
          },
          "execution_count": 41
        },
        {
          "output_type": "display_data",
          "data": {
            "image/png": "[encoded data removed]",
            "text/plain": [
              "<Figure size 720x360 with 1 Axes>"
            ]
          },
          "metadata": {
            "tags": []
          }
        }
      ]
    },
    {
      "cell_type": "code",
      "metadata": {
        "id": "RBZSOyyGN-4b",
        "colab_type": "code",
        "colab": {
          "base_uri": "https://localhost:8080/",
          "height": 385
        },
        "outputId": "d416f6bb-3eb0-4f47-b6af-d82b81597987"
      },
      "source": [
        "#scatter plot for prices against squarefeet of living room \n",
        "customized_scatterplot(house_data1.price, house_data1.long);\n",
        "plt.title('Price vs long')"
      ],
      "execution_count": 63,
      "outputs": [
        {
          "output_type": "execute_result",
          "data": {
            "text/plain": [
              "Text(0.5, 1.0, 'Price vs long')"
            ]
          },
          "metadata": {
            "tags": []
          },
          "execution_count": 63
        },
        {
          "output_type": "display_data",
          "data": {
            "image/png": "[encoded data removed]",
            "text/plain": [
              "<Figure size 720x360 with 1 Axes>"
            ]
          },
          "metadata": {
            "tags": []
          }
        }
      ]
    },
    {
      "cell_type": "code",
      "metadata": {
        "id": "XX36MaRLN-z_",
        "colab_type": "code",
        "colab": {
          "base_uri": "https://localhost:8080/",
          "height": 385
        },
        "outputId": "0a4a8832-7781-46c5-9631-5de22df7bc82"
      },
      "source": [
        "#scatter plot for prices against condition\n",
        "customized_scatterplot(house_data1.price, house_data1.condition);\n",
        "plt.title('Price vs condition')"
      ],
      "execution_count": 20,
      "outputs": [
        {
          "output_type": "execute_result",
          "data": {
            "text/plain": [
              "Text(0.5, 1.0, 'Price vs condition')"
            ]
          },
          "metadata": {
            "tags": []
          },
          "execution_count": 20
        },
        {
          "output_type": "display_data",
          "data": {
            "image/png": "[encoded data removed]",
            "text/plain": [
              "<Figure size 720x360 with 1 Axes>"
            ]
          },
          "metadata": {
            "tags": []
          }
        }
      ]
    },
    {
      "cell_type": "code",
      "metadata": {
        "id": "m_oaTfgdJmI2",
        "colab_type": "code",
        "colab": {
          "base_uri": "https://localhost:8080/",
          "height": 511
        },
        "outputId": "af3fd18e-540f-47ee-e12b-ec540fb8d9b8"
      },
      "source": [
        "#Checking for correlations between the variables of house_data\n",
        "plt.figure(dpi=100)\n",
        "cor=house_data1.corr(method = 'spearman')\n",
        "sns.heatmap(cor, xticklabels=cor.columns, yticklabels=cor.columns, annot = True)\n",
        "plt.title('Variables correlation')\n",
        "plt.show"
      ],
      "execution_count": 64,
      "outputs": [
        {
          "output_type": "execute_result",
          "data": {
            "text/plain": [
              "<function matplotlib.pyplot.show>"
            ]
          },
          "metadata": {
            "tags": []
          },
          "execution_count": 64
        },
        {
          "output_type": "display_data",
          "data": {
            "image/png": "[encoded data removed]",
            "text/plain": [
              "<Figure size 600x400 with 2 Axes>"
            ]
          },
          "metadata": {
            "tags": []
          }
        }
      ]
    },
    {
      "cell_type": "markdown",
      "metadata": {
        "id": "CYk6Y7-6J6FS",
        "colab_type": "text"
      },
      "source": [
        "We can see that most of our independent variables are highly correlated."
      ]
    },
    {
      "cell_type": "markdown",
      "metadata": {
        "id": "szJXU0VmEpV7",
        "colab_type": "text"
      },
      "source": [
        "**MULTICOLLINEARITY**"
      ]
    },
    {
      "cell_type": "code",
      "metadata": {
        "id": "fKQ1dJQBdR6w",
        "colab_type": "code",
        "colab": {
          "base_uri": "https://localhost:8080/",
          "height": 668
        },
        "outputId": "89ba875d-f671-4d96-c94b-c236fdef948b"
      },
      "source": [
        "house_corr = house_data.corr()\n",
        "house_corr"
      ],
      "execution_count": 44,
      "outputs": [
        {
          "output_type": "execute_result",
          "data": {
            "text/html": [
              "<div>\n",
              "<style scoped>\n",
              "    .dataframe tbody tr th:only-of-type {\n",
              "        vertical-align: middle;\n",
              "    }\n",
              "\n",
              "    .dataframe tbody tr th {\n",
              "        vertical-align: top;\n",
              "    }\n",
              "\n",
              "    .dataframe thead th {\n",
              "        text-align: right;\n",
              "    }\n",
              "</style>\n",
              "<table border=\"1\" class=\"dataframe\">\n",
              "  <thead>\n",
              "    <tr style=\"text-align: right;\">\n",
              "      <th></th>\n",
              "      <th>id</th>\n",
              "      <th>price</th>\n",
              "      <th>bedrooms</th>\n",
              "      <th>bathrooms</th>\n",
              "      <th>sqft_living</th>\n",
              "      <th>sqft_lot</th>\n",
              "      <th>floors</th>\n",
              "      <th>waterfront</th>\n",
              "      <th>view</th>\n",
              "      <th>condition</th>\n",
              "      <th>grade</th>\n",
              "      <th>sqft_above</th>\n",
              "      <th>sqft_basement</th>\n",
              "      <th>yr_built</th>\n",
              "      <th>yr_renovated</th>\n",
              "      <th>zipcode</th>\n",
              "      <th>lat</th>\n",
              "      <th>long</th>\n",
              "      <th>sqft_living15</th>\n",
              "      <th>sqft_lot15</th>\n",
              "    </tr>\n",
              "  </thead>\n",
              "  <tbody>\n",
              "    <tr>\n",
              "      <th>id</th>\n",
              "      <td>1.000000</td>\n",
              "      <td>-0.016797</td>\n",
              "      <td>0.001286</td>\n",
              "      <td>0.005160</td>\n",
              "      <td>-0.012258</td>\n",
              "      <td>-0.132109</td>\n",
              "      <td>0.018525</td>\n",
              "      <td>-0.002721</td>\n",
              "      <td>0.011592</td>\n",
              "      <td>-0.023783</td>\n",
              "      <td>0.008130</td>\n",
              "      <td>-0.010842</td>\n",
              "      <td>-0.005151</td>\n",
              "      <td>0.021380</td>\n",
              "      <td>-0.016907</td>\n",
              "      <td>-0.008224</td>\n",
              "      <td>-0.001891</td>\n",
              "      <td>0.020799</td>\n",
              "      <td>-0.002901</td>\n",
              "      <td>-0.138798</td>\n",
              "    </tr>\n",
              "    <tr>\n",
              "      <th>price</th>\n",
              "      <td>-0.016797</td>\n",
              "      <td>1.000000</td>\n",
              "      <td>0.308338</td>\n",
              "      <td>0.525134</td>\n",
              "      <td>0.702044</td>\n",
              "      <td>0.089655</td>\n",
              "      <td>0.256786</td>\n",
              "      <td>0.266331</td>\n",
              "      <td>0.397346</td>\n",
              "      <td>0.036392</td>\n",
              "      <td>0.667463</td>\n",
              "      <td>0.605566</td>\n",
              "      <td>0.323837</td>\n",
              "      <td>0.053982</td>\n",
              "      <td>0.126442</td>\n",
              "      <td>-0.053168</td>\n",
              "      <td>0.306919</td>\n",
              "      <td>0.021571</td>\n",
              "      <td>0.585374</td>\n",
              "      <td>0.082456</td>\n",
              "    </tr>\n",
              "    <tr>\n",
              "      <th>bedrooms</th>\n",
              "      <td>0.001286</td>\n",
              "      <td>0.308338</td>\n",
              "      <td>1.000000</td>\n",
              "      <td>0.515884</td>\n",
              "      <td>0.576671</td>\n",
              "      <td>0.031703</td>\n",
              "      <td>0.175429</td>\n",
              "      <td>-0.006582</td>\n",
              "      <td>0.079532</td>\n",
              "      <td>0.028472</td>\n",
              "      <td>0.356967</td>\n",
              "      <td>0.477600</td>\n",
              "      <td>0.303093</td>\n",
              "      <td>0.154178</td>\n",
              "      <td>0.018841</td>\n",
              "      <td>-0.152668</td>\n",
              "      <td>-0.008931</td>\n",
              "      <td>0.129473</td>\n",
              "      <td>0.391638</td>\n",
              "      <td>0.029244</td>\n",
              "    </tr>\n",
              "    <tr>\n",
              "      <th>bathrooms</th>\n",
              "      <td>0.005160</td>\n",
              "      <td>0.525134</td>\n",
              "      <td>0.515884</td>\n",
              "      <td>1.000000</td>\n",
              "      <td>0.754665</td>\n",
              "      <td>0.087740</td>\n",
              "      <td>0.500653</td>\n",
              "      <td>0.063744</td>\n",
              "      <td>0.187737</td>\n",
              "      <td>-0.124982</td>\n",
              "      <td>0.664983</td>\n",
              "      <td>0.685342</td>\n",
              "      <td>0.283770</td>\n",
              "      <td>0.506019</td>\n",
              "      <td>0.050739</td>\n",
              "      <td>-0.203866</td>\n",
              "      <td>0.024573</td>\n",
              "      <td>0.223042</td>\n",
              "      <td>0.568634</td>\n",
              "      <td>0.087175</td>\n",
              "    </tr>\n",
              "    <tr>\n",
              "      <th>sqft_living</th>\n",
              "      <td>-0.012258</td>\n",
              "      <td>0.702044</td>\n",
              "      <td>0.576671</td>\n",
              "      <td>0.754665</td>\n",
              "      <td>1.000000</td>\n",
              "      <td>0.172826</td>\n",
              "      <td>0.353949</td>\n",
              "      <td>0.103818</td>\n",
              "      <td>0.284611</td>\n",
              "      <td>-0.058753</td>\n",
              "      <td>0.762704</td>\n",
              "      <td>0.876597</td>\n",
              "      <td>0.435043</td>\n",
              "      <td>0.318049</td>\n",
              "      <td>0.055363</td>\n",
              "      <td>-0.199430</td>\n",
              "      <td>0.052529</td>\n",
              "      <td>0.240223</td>\n",
              "      <td>0.756420</td>\n",
              "      <td>0.183286</td>\n",
              "    </tr>\n",
              "    <tr>\n",
              "      <th>sqft_lot</th>\n",
              "      <td>-0.132109</td>\n",
              "      <td>0.089655</td>\n",
              "      <td>0.031703</td>\n",
              "      <td>0.087740</td>\n",
              "      <td>0.172826</td>\n",
              "      <td>1.000000</td>\n",
              "      <td>-0.005201</td>\n",
              "      <td>0.021604</td>\n",
              "      <td>0.074710</td>\n",
              "      <td>-0.008958</td>\n",
              "      <td>0.113621</td>\n",
              "      <td>0.183512</td>\n",
              "      <td>0.015286</td>\n",
              "      <td>0.053080</td>\n",
              "      <td>0.007644</td>\n",
              "      <td>-0.129574</td>\n",
              "      <td>-0.085683</td>\n",
              "      <td>0.229521</td>\n",
              "      <td>0.144608</td>\n",
              "      <td>0.718557</td>\n",
              "    </tr>\n",
              "    <tr>\n",
              "      <th>floors</th>\n",
              "      <td>0.018525</td>\n",
              "      <td>0.256786</td>\n",
              "      <td>0.175429</td>\n",
              "      <td>0.500653</td>\n",
              "      <td>0.353949</td>\n",
              "      <td>-0.005201</td>\n",
              "      <td>1.000000</td>\n",
              "      <td>0.023698</td>\n",
              "      <td>0.029444</td>\n",
              "      <td>-0.263768</td>\n",
              "      <td>0.458183</td>\n",
              "      <td>0.523885</td>\n",
              "      <td>-0.245705</td>\n",
              "      <td>0.489319</td>\n",
              "      <td>0.006338</td>\n",
              "      <td>-0.059121</td>\n",
              "      <td>0.049614</td>\n",
              "      <td>0.125419</td>\n",
              "      <td>0.279885</td>\n",
              "      <td>-0.011269</td>\n",
              "    </tr>\n",
              "    <tr>\n",
              "      <th>waterfront</th>\n",
              "      <td>-0.002721</td>\n",
              "      <td>0.266331</td>\n",
              "      <td>-0.006582</td>\n",
              "      <td>0.063744</td>\n",
              "      <td>0.103818</td>\n",
              "      <td>0.021604</td>\n",
              "      <td>0.023698</td>\n",
              "      <td>1.000000</td>\n",
              "      <td>0.401857</td>\n",
              "      <td>0.016653</td>\n",
              "      <td>0.082775</td>\n",
              "      <td>0.072075</td>\n",
              "      <td>0.080588</td>\n",
              "      <td>-0.026161</td>\n",
              "      <td>0.092885</td>\n",
              "      <td>0.030285</td>\n",
              "      <td>-0.014274</td>\n",
              "      <td>-0.041910</td>\n",
              "      <td>0.086463</td>\n",
              "      <td>0.030703</td>\n",
              "    </tr>\n",
              "    <tr>\n",
              "      <th>view</th>\n",
              "      <td>0.011592</td>\n",
              "      <td>0.397346</td>\n",
              "      <td>0.079532</td>\n",
              "      <td>0.187737</td>\n",
              "      <td>0.284611</td>\n",
              "      <td>0.074710</td>\n",
              "      <td>0.029444</td>\n",
              "      <td>0.401857</td>\n",
              "      <td>1.000000</td>\n",
              "      <td>0.045990</td>\n",
              "      <td>0.251321</td>\n",
              "      <td>0.167649</td>\n",
              "      <td>0.276947</td>\n",
              "      <td>-0.053440</td>\n",
              "      <td>0.103917</td>\n",
              "      <td>0.084827</td>\n",
              "      <td>0.006157</td>\n",
              "      <td>-0.078400</td>\n",
              "      <td>0.280439</td>\n",
              "      <td>0.072575</td>\n",
              "    </tr>\n",
              "    <tr>\n",
              "      <th>condition</th>\n",
              "      <td>-0.023783</td>\n",
              "      <td>0.036392</td>\n",
              "      <td>0.028472</td>\n",
              "      <td>-0.124982</td>\n",
              "      <td>-0.058753</td>\n",
              "      <td>-0.008958</td>\n",
              "      <td>-0.263768</td>\n",
              "      <td>0.016653</td>\n",
              "      <td>0.045990</td>\n",
              "      <td>1.000000</td>\n",
              "      <td>-0.144674</td>\n",
              "      <td>-0.158214</td>\n",
              "      <td>0.174105</td>\n",
              "      <td>-0.361417</td>\n",
              "      <td>-0.060618</td>\n",
              "      <td>0.003026</td>\n",
              "      <td>-0.014941</td>\n",
              "      <td>-0.106500</td>\n",
              "      <td>-0.092824</td>\n",
              "      <td>-0.003406</td>\n",
              "    </tr>\n",
              "    <tr>\n",
              "      <th>grade</th>\n",
              "      <td>0.008130</td>\n",
              "      <td>0.667463</td>\n",
              "      <td>0.356967</td>\n",
              "      <td>0.664983</td>\n",
              "      <td>0.762704</td>\n",
              "      <td>0.113621</td>\n",
              "      <td>0.458183</td>\n",
              "      <td>0.082775</td>\n",
              "      <td>0.251321</td>\n",
              "      <td>-0.144674</td>\n",
              "      <td>1.000000</td>\n",
              "      <td>0.755923</td>\n",
              "      <td>0.168392</td>\n",
              "      <td>0.446963</td>\n",
              "      <td>0.014414</td>\n",
              "      <td>-0.184862</td>\n",
              "      <td>0.114084</td>\n",
              "      <td>0.198372</td>\n",
              "      <td>0.713202</td>\n",
              "      <td>0.119248</td>\n",
              "    </tr>\n",
              "    <tr>\n",
              "      <th>sqft_above</th>\n",
              "      <td>-0.010842</td>\n",
              "      <td>0.605566</td>\n",
              "      <td>0.477600</td>\n",
              "      <td>0.685342</td>\n",
              "      <td>0.876597</td>\n",
              "      <td>0.183512</td>\n",
              "      <td>0.523885</td>\n",
              "      <td>0.072075</td>\n",
              "      <td>0.167649</td>\n",
              "      <td>-0.158214</td>\n",
              "      <td>0.755923</td>\n",
              "      <td>1.000000</td>\n",
              "      <td>-0.051943</td>\n",
              "      <td>0.423898</td>\n",
              "      <td>0.023285</td>\n",
              "      <td>-0.261190</td>\n",
              "      <td>-0.000816</td>\n",
              "      <td>0.343803</td>\n",
              "      <td>0.731870</td>\n",
              "      <td>0.194050</td>\n",
              "    </tr>\n",
              "    <tr>\n",
              "      <th>sqft_basement</th>\n",
              "      <td>-0.005151</td>\n",
              "      <td>0.323837</td>\n",
              "      <td>0.303093</td>\n",
              "      <td>0.283770</td>\n",
              "      <td>0.435043</td>\n",
              "      <td>0.015286</td>\n",
              "      <td>-0.245705</td>\n",
              "      <td>0.080588</td>\n",
              "      <td>0.276947</td>\n",
              "      <td>0.174105</td>\n",
              "      <td>0.168392</td>\n",
              "      <td>-0.051943</td>\n",
              "      <td>1.000000</td>\n",
              "      <td>-0.133124</td>\n",
              "      <td>0.071323</td>\n",
              "      <td>0.074845</td>\n",
              "      <td>0.110538</td>\n",
              "      <td>-0.144765</td>\n",
              "      <td>0.200355</td>\n",
              "      <td>0.017276</td>\n",
              "    </tr>\n",
              "    <tr>\n",
              "      <th>yr_built</th>\n",
              "      <td>0.021380</td>\n",
              "      <td>0.053982</td>\n",
              "      <td>0.154178</td>\n",
              "      <td>0.506019</td>\n",
              "      <td>0.318049</td>\n",
              "      <td>0.053080</td>\n",
              "      <td>0.489319</td>\n",
              "      <td>-0.026161</td>\n",
              "      <td>-0.053440</td>\n",
              "      <td>-0.361417</td>\n",
              "      <td>0.446963</td>\n",
              "      <td>0.423898</td>\n",
              "      <td>-0.133124</td>\n",
              "      <td>1.000000</td>\n",
              "      <td>-0.224874</td>\n",
              "      <td>-0.346869</td>\n",
              "      <td>-0.148122</td>\n",
              "      <td>0.409356</td>\n",
              "      <td>0.326229</td>\n",
              "      <td>0.070958</td>\n",
              "    </tr>\n",
              "    <tr>\n",
              "      <th>yr_renovated</th>\n",
              "      <td>-0.016907</td>\n",
              "      <td>0.126442</td>\n",
              "      <td>0.018841</td>\n",
              "      <td>0.050739</td>\n",
              "      <td>0.055363</td>\n",
              "      <td>0.007644</td>\n",
              "      <td>0.006338</td>\n",
              "      <td>0.092885</td>\n",
              "      <td>0.103917</td>\n",
              "      <td>-0.060618</td>\n",
              "      <td>0.014414</td>\n",
              "      <td>0.023285</td>\n",
              "      <td>0.071323</td>\n",
              "      <td>-0.224874</td>\n",
              "      <td>1.000000</td>\n",
              "      <td>0.064357</td>\n",
              "      <td>0.029398</td>\n",
              "      <td>-0.068372</td>\n",
              "      <td>-0.002673</td>\n",
              "      <td>0.007854</td>\n",
              "    </tr>\n",
              "    <tr>\n",
              "      <th>zipcode</th>\n",
              "      <td>-0.008224</td>\n",
              "      <td>-0.053168</td>\n",
              "      <td>-0.152668</td>\n",
              "      <td>-0.203866</td>\n",
              "      <td>-0.199430</td>\n",
              "      <td>-0.129574</td>\n",
              "      <td>-0.059121</td>\n",
              "      <td>0.030285</td>\n",
              "      <td>0.084827</td>\n",
              "      <td>0.003026</td>\n",
              "      <td>-0.184862</td>\n",
              "      <td>-0.261190</td>\n",
              "      <td>0.074845</td>\n",
              "      <td>-0.346869</td>\n",
              "      <td>0.064357</td>\n",
              "      <td>1.000000</td>\n",
              "      <td>0.267048</td>\n",
              "      <td>-0.564072</td>\n",
              "      <td>-0.279033</td>\n",
              "      <td>-0.147221</td>\n",
              "    </tr>\n",
              "    <tr>\n",
              "      <th>lat</th>\n",
              "      <td>-0.001891</td>\n",
              "      <td>0.306919</td>\n",
              "      <td>-0.008931</td>\n",
              "      <td>0.024573</td>\n",
              "      <td>0.052529</td>\n",
              "      <td>-0.085683</td>\n",
              "      <td>0.049614</td>\n",
              "      <td>-0.014274</td>\n",
              "      <td>0.006157</td>\n",
              "      <td>-0.014941</td>\n",
              "      <td>0.114084</td>\n",
              "      <td>-0.000816</td>\n",
              "      <td>0.110538</td>\n",
              "      <td>-0.148122</td>\n",
              "      <td>0.029398</td>\n",
              "      <td>0.267048</td>\n",
              "      <td>1.000000</td>\n",
              "      <td>-0.135512</td>\n",
              "      <td>0.048858</td>\n",
              "      <td>-0.086419</td>\n",
              "    </tr>\n",
              "    <tr>\n",
              "      <th>long</th>\n",
              "      <td>0.020799</td>\n",
              "      <td>0.021571</td>\n",
              "      <td>0.129473</td>\n",
              "      <td>0.223042</td>\n",
              "      <td>0.240223</td>\n",
              "      <td>0.229521</td>\n",
              "      <td>0.125419</td>\n",
              "      <td>-0.041910</td>\n",
              "      <td>-0.078400</td>\n",
              "      <td>-0.106500</td>\n",
              "      <td>0.198372</td>\n",
              "      <td>0.343803</td>\n",
              "      <td>-0.144765</td>\n",
              "      <td>0.409356</td>\n",
              "      <td>-0.068372</td>\n",
              "      <td>-0.564072</td>\n",
              "      <td>-0.135512</td>\n",
              "      <td>1.000000</td>\n",
              "      <td>0.334605</td>\n",
              "      <td>0.254451</td>\n",
              "    </tr>\n",
              "    <tr>\n",
              "      <th>sqft_living15</th>\n",
              "      <td>-0.002901</td>\n",
              "      <td>0.585374</td>\n",
              "      <td>0.391638</td>\n",
              "      <td>0.568634</td>\n",
              "      <td>0.756420</td>\n",
              "      <td>0.144608</td>\n",
              "      <td>0.279885</td>\n",
              "      <td>0.086463</td>\n",
              "      <td>0.280439</td>\n",
              "      <td>-0.092824</td>\n",
              "      <td>0.713202</td>\n",
              "      <td>0.731870</td>\n",
              "      <td>0.200355</td>\n",
              "      <td>0.326229</td>\n",
              "      <td>-0.002673</td>\n",
              "      <td>-0.279033</td>\n",
              "      <td>0.048858</td>\n",
              "      <td>0.334605</td>\n",
              "      <td>1.000000</td>\n",
              "      <td>0.183192</td>\n",
              "    </tr>\n",
              "    <tr>\n",
              "      <th>sqft_lot15</th>\n",
              "      <td>-0.138798</td>\n",
              "      <td>0.082456</td>\n",
              "      <td>0.029244</td>\n",
              "      <td>0.087175</td>\n",
              "      <td>0.183286</td>\n",
              "      <td>0.718557</td>\n",
              "      <td>-0.011269</td>\n",
              "      <td>0.030703</td>\n",
              "      <td>0.072575</td>\n",
              "      <td>-0.003406</td>\n",
              "      <td>0.119248</td>\n",
              "      <td>0.194050</td>\n",
              "      <td>0.017276</td>\n",
              "      <td>0.070958</td>\n",
              "      <td>0.007854</td>\n",
              "      <td>-0.147221</td>\n",
              "      <td>-0.086419</td>\n",
              "      <td>0.254451</td>\n",
              "      <td>0.183192</td>\n",
              "      <td>1.000000</td>\n",
              "    </tr>\n",
              "  </tbody>\n",
              "</table>\n",
              "</div>"
            ],
            "text/plain": [
              "                     id     price  ...  sqft_living15  sqft_lot15\n",
              "id             1.000000 -0.016797  ...      -0.002901   -0.138798\n",
              "price         -0.016797  1.000000  ...       0.585374    0.082456\n",
              "bedrooms       0.001286  0.308338  ...       0.391638    0.029244\n",
              "bathrooms      0.005160  0.525134  ...       0.568634    0.087175\n",
              "sqft_living   -0.012258  0.702044  ...       0.756420    0.183286\n",
              "sqft_lot      -0.132109  0.089655  ...       0.144608    0.718557\n",
              "floors         0.018525  0.256786  ...       0.279885   -0.011269\n",
              "waterfront    -0.002721  0.266331  ...       0.086463    0.030703\n",
              "view           0.011592  0.397346  ...       0.280439    0.072575\n",
              "condition     -0.023783  0.036392  ...      -0.092824   -0.003406\n",
              "grade          0.008130  0.667463  ...       0.713202    0.119248\n",
              "sqft_above    -0.010842  0.605566  ...       0.731870    0.194050\n",
              "sqft_basement -0.005151  0.323837  ...       0.200355    0.017276\n",
              "yr_built       0.021380  0.053982  ...       0.326229    0.070958\n",
              "yr_renovated  -0.016907  0.126442  ...      -0.002673    0.007854\n",
              "zipcode       -0.008224 -0.053168  ...      -0.279033   -0.147221\n",
              "lat           -0.001891  0.306919  ...       0.048858   -0.086419\n",
              "long           0.020799  0.021571  ...       0.334605    0.254451\n",
              "sqft_living15 -0.002901  0.585374  ...       1.000000    0.183192\n",
              "sqft_lot15    -0.138798  0.082456  ...       0.183192    1.000000\n",
              "\n",
              "[20 rows x 20 columns]"
            ]
          },
          "metadata": {
            "tags": []
          },
          "execution_count": 44
        }
      ]
    },
    {
      "cell_type": "markdown",
      "metadata": {
        "id": "dja64zjcdgPl",
        "colab_type": "text"
      },
      "source": [
        "prices correlation is 1, on the diagonal. price and sqft_living is strongly correlated with a 0.7. sqrt_living and sqft_above are strongly correlated with 0.87. a correlation of above 0.25 indicates strong correlation, below 0.5 means a weak or no correlation."
      ]
    },
    {
      "cell_type": "code",
      "metadata": {
        "id": "BHIxozwWeiqH",
        "colab_type": "code",
        "colab": {
          "base_uri": "https://localhost:8080/",
          "height": 668
        },
        "outputId": "315fb756-8700-4159-e31d-ae4869c1bff5"
      },
      "source": [
        "#checking for multicollinearity using VIF\n",
        "VIF=pd.DataFrame(np.linalg.inv(house_corr.values), index = house_corr.index, columns=house_corr.columns)\n",
        "VIF"
      ],
      "execution_count": 27,
      "outputs": [
        {
          "output_type": "execute_result",
          "data": {
            "text/html": [
              "<div>\n",
              "<style scoped>\n",
              "    .dataframe tbody tr th:only-of-type {\n",
              "        vertical-align: middle;\n",
              "    }\n",
              "\n",
              "    .dataframe tbody tr th {\n",
              "        vertical-align: top;\n",
              "    }\n",
              "\n",
              "    .dataframe thead th {\n",
              "        text-align: right;\n",
              "    }\n",
              "</style>\n",
              "<table border=\"1\" class=\"dataframe\">\n",
              "  <thead>\n",
              "    <tr style=\"text-align: right;\">\n",
              "      <th></th>\n",
              "      <th>id</th>\n",
              "      <th>price</th>\n",
              "      <th>bedrooms</th>\n",
              "      <th>bathrooms</th>\n",
              "      <th>sqft_living</th>\n",
              "      <th>sqft_lot</th>\n",
              "      <th>floors</th>\n",
              "      <th>waterfront</th>\n",
              "      <th>view</th>\n",
              "      <th>condition</th>\n",
              "      <th>grade</th>\n",
              "      <th>sqft_above</th>\n",
              "      <th>sqft_basement</th>\n",
              "      <th>yr_built</th>\n",
              "      <th>yr_renovated</th>\n",
              "      <th>zipcode</th>\n",
              "      <th>lat</th>\n",
              "      <th>long</th>\n",
              "      <th>sqft_living15</th>\n",
              "      <th>sqft_lot15</th>\n",
              "    </tr>\n",
              "  </thead>\n",
              "  <tbody>\n",
              "    <tr>\n",
              "      <th>id</th>\n",
              "      <td>1.028542</td>\n",
              "      <td>0.033760</td>\n",
              "      <td>0.002267</td>\n",
              "      <td>-0.005352</td>\n",
              "      <td>9.295241e-03</td>\n",
              "      <td>0.077219</td>\n",
              "      <td>-0.011600</td>\n",
              "      <td>0.002765</td>\n",
              "      <td>-0.037849</td>\n",
              "      <td>0.022078</td>\n",
              "      <td>-0.048373</td>\n",
              "      <td>1.019747e-02</td>\n",
              "      <td>-1.098595e-02</td>\n",
              "      <td>0.023615</td>\n",
              "      <td>0.017859</td>\n",
              "      <td>0.000315</td>\n",
              "      <td>0.007458</td>\n",
              "      <td>-0.072914</td>\n",
              "      <td>0.009239</td>\n",
              "      <td>0.105511</td>\n",
              "    </tr>\n",
              "    <tr>\n",
              "      <th>price</th>\n",
              "      <td>0.033760</td>\n",
              "      <td>3.331694</td>\n",
              "      <td>0.301926</td>\n",
              "      <td>-0.287621</td>\n",
              "      <td>-1.059816e+00</td>\n",
              "      <td>-0.045685</td>\n",
              "      <td>-0.033158</td>\n",
              "      <td>-0.457218</td>\n",
              "      <td>-0.369007</td>\n",
              "      <td>-0.155106</td>\n",
              "      <td>-1.024505</td>\n",
              "      <td>-4.024468e-01</td>\n",
              "      <td>-9.300384e-02</td>\n",
              "      <td>0.699138</td>\n",
              "      <td>-0.071608</td>\n",
              "      <td>0.282609</td>\n",
              "      <td>-0.757054</td>\n",
              "      <td>0.272064</td>\n",
              "      <td>-0.134388</td>\n",
              "      <td>0.098140</td>\n",
              "    </tr>\n",
              "    <tr>\n",
              "      <th>bedrooms</th>\n",
              "      <td>0.002267</td>\n",
              "      <td>0.301926</td>\n",
              "      <td>1.679425</td>\n",
              "      <td>-0.487234</td>\n",
              "      <td>-2.914374e-01</td>\n",
              "      <td>0.045161</td>\n",
              "      <td>0.046698</td>\n",
              "      <td>0.021795</td>\n",
              "      <td>0.080697</td>\n",
              "      <td>-0.064841</td>\n",
              "      <td>0.214235</td>\n",
              "      <td>-7.339783e-01</td>\n",
              "      <td>-3.968862e-01</td>\n",
              "      <td>0.197843</td>\n",
              "      <td>0.038950</td>\n",
              "      <td>0.105724</td>\n",
              "      <td>-0.017829</td>\n",
              "      <td>0.042108</td>\n",
              "      <td>0.013026</td>\n",
              "      <td>0.094213</td>\n",
              "    </tr>\n",
              "    <tr>\n",
              "      <th>bathrooms</th>\n",
              "      <td>-0.005352</td>\n",
              "      <td>-0.287621</td>\n",
              "      <td>-0.487234</td>\n",
              "      <td>3.375628</td>\n",
              "      <td>-4.983419e+00</td>\n",
              "      <td>-0.020368</td>\n",
              "      <td>-0.672186</td>\n",
              "      <td>0.049214</td>\n",
              "      <td>-0.009708</td>\n",
              "      <td>-0.123686</td>\n",
              "      <td>-0.179471</td>\n",
              "      <td>3.339955e+00</td>\n",
              "      <td>1.373944e+00</td>\n",
              "      <td>-0.996174</td>\n",
              "      <td>-0.253644</td>\n",
              "      <td>0.017405</td>\n",
              "      <td>0.024363</td>\n",
              "      <td>0.030747</td>\n",
              "      <td>0.103709</td>\n",
              "      <td>0.062751</td>\n",
              "    </tr>\n",
              "    <tr>\n",
              "      <th>sqft_living</th>\n",
              "      <td>0.009202</td>\n",
              "      <td>-1.054373</td>\n",
              "      <td>-0.288261</td>\n",
              "      <td>-4.978829</td>\n",
              "      <td>-3.384707e+13</td>\n",
              "      <td>-0.106878</td>\n",
              "      <td>0.527039</td>\n",
              "      <td>0.597696</td>\n",
              "      <td>-0.479097</td>\n",
              "      <td>-0.315069</td>\n",
              "      <td>-0.453843</td>\n",
              "      <td>3.051743e+13</td>\n",
              "      <td>1.631011e+13</td>\n",
              "      <td>1.445337</td>\n",
              "      <td>0.088412</td>\n",
              "      <td>-0.235969</td>\n",
              "      <td>0.262880</td>\n",
              "      <td>-0.210571</td>\n",
              "      <td>-0.942696</td>\n",
              "      <td>-0.214327</td>\n",
              "    </tr>\n",
              "    <tr>\n",
              "      <th>sqft_lot</th>\n",
              "      <td>0.077219</td>\n",
              "      <td>-0.045685</td>\n",
              "      <td>0.045161</td>\n",
              "      <td>-0.020368</td>\n",
              "      <td>-1.071586e-01</td>\n",
              "      <td>2.109017</td>\n",
              "      <td>0.044866</td>\n",
              "      <td>0.034139</td>\n",
              "      <td>-0.056515</td>\n",
              "      <td>0.034475</td>\n",
              "      <td>-0.042674</td>\n",
              "      <td>-8.142180e-02</td>\n",
              "      <td>1.746460e-02</td>\n",
              "      <td>0.090425</td>\n",
              "      <td>0.023829</td>\n",
              "      <td>-0.006678</td>\n",
              "      <td>0.064889</td>\n",
              "      <td>-0.142610</td>\n",
              "      <td>0.166587</td>\n",
              "      <td>-1.452768</td>\n",
              "    </tr>\n",
              "    <tr>\n",
              "      <th>floors</th>\n",
              "      <td>-0.011600</td>\n",
              "      <td>-0.033158</td>\n",
              "      <td>0.046698</td>\n",
              "      <td>-0.672186</td>\n",
              "      <td>5.283104e-01</td>\n",
              "      <td>0.044866</td>\n",
              "      <td>2.012361</td>\n",
              "      <td>-0.000812</td>\n",
              "      <td>-0.036580</td>\n",
              "      <td>0.090957</td>\n",
              "      <td>-0.220239</td>\n",
              "      <td>-9.665754e-01</td>\n",
              "      <td>3.676039e-01</td>\n",
              "      <td>-0.488619</td>\n",
              "      <td>-0.080094</td>\n",
              "      <td>-0.173551</td>\n",
              "      <td>-0.120268</td>\n",
              "      <td>0.162189</td>\n",
              "      <td>0.273838</td>\n",
              "      <td>0.070537</td>\n",
              "    </tr>\n",
              "    <tr>\n",
              "      <th>waterfront</th>\n",
              "      <td>0.002765</td>\n",
              "      <td>-0.457218</td>\n",
              "      <td>0.021795</td>\n",
              "      <td>0.049214</td>\n",
              "      <td>5.972879e-01</td>\n",
              "      <td>0.034139</td>\n",
              "      <td>-0.000812</td>\n",
              "      <td>1.266565</td>\n",
              "      <td>-0.442151</td>\n",
              "      <td>0.008786</td>\n",
              "      <td>0.189562</td>\n",
              "      <td>-4.636230e-01</td>\n",
              "      <td>-2.087473e-01</td>\n",
              "      <td>-0.116876</td>\n",
              "      <td>-0.055442</td>\n",
              "      <td>-0.016250</td>\n",
              "      <td>0.113898</td>\n",
              "      <td>-0.010443</td>\n",
              "      <td>0.072970</td>\n",
              "      <td>-0.031186</td>\n",
              "    </tr>\n",
              "    <tr>\n",
              "      <th>view</th>\n",
              "      <td>-0.037849</td>\n",
              "      <td>-0.369007</td>\n",
              "      <td>0.080697</td>\n",
              "      <td>-0.009708</td>\n",
              "      <td>-4.781436e-01</td>\n",
              "      <td>-0.056515</td>\n",
              "      <td>-0.036580</td>\n",
              "      <td>-0.442151</td>\n",
              "      <td>1.477161</td>\n",
              "      <td>-0.005080</td>\n",
              "      <td>-0.070505</td>\n",
              "      <td>6.198854e-01</td>\n",
              "      <td>4.047917e-02</td>\n",
              "      <td>0.073637</td>\n",
              "      <td>-0.032922</td>\n",
              "      <td>-0.171895</td>\n",
              "      <td>0.201833</td>\n",
              "      <td>0.043886</td>\n",
              "      <td>-0.311082</td>\n",
              "      <td>-0.021830</td>\n",
              "    </tr>\n",
              "    <tr>\n",
              "      <th>condition</th>\n",
              "      <td>0.022078</td>\n",
              "      <td>-0.155106</td>\n",
              "      <td>-0.064841</td>\n",
              "      <td>-0.123686</td>\n",
              "      <td>-3.142170e-01</td>\n",
              "      <td>0.034475</td>\n",
              "      <td>0.090957</td>\n",
              "      <td>0.008786</td>\n",
              "      <td>-0.005080</td>\n",
              "      <td>1.257240</td>\n",
              "      <td>-0.007632</td>\n",
              "      <td>4.023978e-01</td>\n",
              "      <td>8.181785e-02</td>\n",
              "      <td>0.529381</td>\n",
              "      <td>0.210433</td>\n",
              "      <td>0.148053</td>\n",
              "      <td>0.099266</td>\n",
              "      <td>-0.021435</td>\n",
              "      <td>0.082361</td>\n",
              "      <td>-0.030419</td>\n",
              "    </tr>\n",
              "    <tr>\n",
              "      <th>grade</th>\n",
              "      <td>-0.048373</td>\n",
              "      <td>-1.024505</td>\n",
              "      <td>0.214235</td>\n",
              "      <td>-0.179471</td>\n",
              "      <td>-4.520963e-01</td>\n",
              "      <td>-0.042674</td>\n",
              "      <td>-0.220239</td>\n",
              "      <td>0.189562</td>\n",
              "      <td>-0.070505</td>\n",
              "      <td>-0.007632</td>\n",
              "      <td>3.733488</td>\n",
              "      <td>-7.855734e-01</td>\n",
              "      <td>-8.280973e-02</td>\n",
              "      <td>-0.854578</td>\n",
              "      <td>-0.050089</td>\n",
              "      <td>-0.003488</td>\n",
              "      <td>-0.098632</td>\n",
              "      <td>0.312970</td>\n",
              "      <td>-0.870669</td>\n",
              "      <td>0.037834</td>\n",
              "    </tr>\n",
              "    <tr>\n",
              "      <th>sqft_above</th>\n",
              "      <td>0.010263</td>\n",
              "      <td>-0.410185</td>\n",
              "      <td>-0.738599</td>\n",
              "      <td>3.333196</td>\n",
              "      <td>3.051743e+13</td>\n",
              "      <td>-0.081895</td>\n",
              "      <td>-0.966305</td>\n",
              "      <td>-0.464011</td>\n",
              "      <td>0.621166</td>\n",
              "      <td>0.403733</td>\n",
              "      <td>-0.783237</td>\n",
              "      <td>-2.751534e+13</td>\n",
              "      <td>-1.470563e+13</td>\n",
              "      <td>-1.068215</td>\n",
              "      <td>-0.050807</td>\n",
              "      <td>0.021525</td>\n",
              "      <td>0.253746</td>\n",
              "      <td>-0.265330</td>\n",
              "      <td>-0.630526</td>\n",
              "      <td>-0.019275</td>\n",
              "    </tr>\n",
              "    <tr>\n",
              "      <th>sqft_basement</th>\n",
              "      <td>-0.010950</td>\n",
              "      <td>-0.094814</td>\n",
              "      <td>-0.400115</td>\n",
              "      <td>1.371731</td>\n",
              "      <td>1.631011e+13</td>\n",
              "      <td>0.017138</td>\n",
              "      <td>0.367345</td>\n",
              "      <td>-0.208979</td>\n",
              "      <td>0.041226</td>\n",
              "      <td>0.082380</td>\n",
              "      <td>-0.082228</td>\n",
              "      <td>-1.470563e+13</td>\n",
              "      <td>-7.859457e+12</td>\n",
              "      <td>-0.577706</td>\n",
              "      <td>-0.043650</td>\n",
              "      <td>-0.018765</td>\n",
              "      <td>-0.070859</td>\n",
              "      <td>0.200045</td>\n",
              "      <td>0.007446</td>\n",
              "      <td>0.025908</td>\n",
              "    </tr>\n",
              "    <tr>\n",
              "      <th>yr_built</th>\n",
              "      <td>0.023615</td>\n",
              "      <td>0.699138</td>\n",
              "      <td>0.197843</td>\n",
              "      <td>-0.996174</td>\n",
              "      <td>1.443948e+00</td>\n",
              "      <td>0.090425</td>\n",
              "      <td>-0.488619</td>\n",
              "      <td>-0.116876</td>\n",
              "      <td>0.073637</td>\n",
              "      <td>0.529381</td>\n",
              "      <td>-0.854578</td>\n",
              "      <td>-1.066963e+00</td>\n",
              "      <td>-5.770365e-01</td>\n",
              "      <td>2.577625</td>\n",
              "      <td>0.519196</td>\n",
              "      <td>0.316127</td>\n",
              "      <td>0.151801</td>\n",
              "      <td>-0.449759</td>\n",
              "      <td>0.049684</td>\n",
              "      <td>-0.011465</td>\n",
              "    </tr>\n",
              "    <tr>\n",
              "      <th>yr_renovated</th>\n",
              "      <td>0.017859</td>\n",
              "      <td>-0.071608</td>\n",
              "      <td>0.038950</td>\n",
              "      <td>-0.253644</td>\n",
              "      <td>8.800112e-02</td>\n",
              "      <td>0.023829</td>\n",
              "      <td>-0.080094</td>\n",
              "      <td>-0.055442</td>\n",
              "      <td>-0.032922</td>\n",
              "      <td>0.210433</td>\n",
              "      <td>-0.050089</td>\n",
              "      <td>-5.043610e-02</td>\n",
              "      <td>-4.345160e-02</td>\n",
              "      <td>0.519196</td>\n",
              "      <td>1.152429</td>\n",
              "      <td>0.030728</td>\n",
              "      <td>0.062524</td>\n",
              "      <td>-0.061811</td>\n",
              "      <td>0.102271</td>\n",
              "      <td>-0.022452</td>\n",
              "    </tr>\n",
              "    <tr>\n",
              "      <th>zipcode</th>\n",
              "      <td>0.000315</td>\n",
              "      <td>0.282609</td>\n",
              "      <td>0.105724</td>\n",
              "      <td>0.017405</td>\n",
              "      <td>-2.366178e-01</td>\n",
              "      <td>-0.006678</td>\n",
              "      <td>-0.173551</td>\n",
              "      <td>-0.016250</td>\n",
              "      <td>-0.171895</td>\n",
              "      <td>0.148053</td>\n",
              "      <td>-0.003488</td>\n",
              "      <td>2.211013e-02</td>\n",
              "      <td>-1.845271e-02</td>\n",
              "      <td>0.316127</td>\n",
              "      <td>0.030728</td>\n",
              "      <td>1.686153</td>\n",
              "      <td>-0.372363</td>\n",
              "      <td>0.757222</td>\n",
              "      <td>0.198776</td>\n",
              "      <td>-0.007439</td>\n",
              "    </tr>\n",
              "    <tr>\n",
              "      <th>lat</th>\n",
              "      <td>0.007458</td>\n",
              "      <td>-0.757054</td>\n",
              "      <td>-0.017829</td>\n",
              "      <td>0.024363</td>\n",
              "      <td>2.649800e-01</td>\n",
              "      <td>0.064889</td>\n",
              "      <td>-0.120268</td>\n",
              "      <td>0.113898</td>\n",
              "      <td>0.201833</td>\n",
              "      <td>0.099266</td>\n",
              "      <td>-0.098632</td>\n",
              "      <td>2.518528e-01</td>\n",
              "      <td>-7.187094e-02</td>\n",
              "      <td>0.151801</td>\n",
              "      <td>0.062524</td>\n",
              "      <td>-0.372363</td>\n",
              "      <td>1.352876</td>\n",
              "      <td>-0.163840</td>\n",
              "      <td>-0.064109</td>\n",
              "      <td>0.015897</td>\n",
              "    </tr>\n",
              "    <tr>\n",
              "      <th>long</th>\n",
              "      <td>-0.072914</td>\n",
              "      <td>0.272064</td>\n",
              "      <td>0.042108</td>\n",
              "      <td>0.030747</td>\n",
              "      <td>-2.107559e-01</td>\n",
              "      <td>-0.142610</td>\n",
              "      <td>0.162189</td>\n",
              "      <td>-0.010443</td>\n",
              "      <td>0.043886</td>\n",
              "      <td>-0.021435</td>\n",
              "      <td>0.312970</td>\n",
              "      <td>-2.651631e-01</td>\n",
              "      <td>2.001347e-01</td>\n",
              "      <td>-0.449759</td>\n",
              "      <td>-0.061811</td>\n",
              "      <td>0.757222</td>\n",
              "      <td>-0.163840</td>\n",
              "      <td>1.853365</td>\n",
              "      <td>-0.366313</td>\n",
              "      <td>-0.160563</td>\n",
              "    </tr>\n",
              "    <tr>\n",
              "      <th>sqft_living15</th>\n",
              "      <td>0.009239</td>\n",
              "      <td>-0.134388</td>\n",
              "      <td>0.013026</td>\n",
              "      <td>0.103709</td>\n",
              "      <td>-9.559629e-01</td>\n",
              "      <td>0.166587</td>\n",
              "      <td>0.273838</td>\n",
              "      <td>0.072970</td>\n",
              "      <td>-0.311082</td>\n",
              "      <td>0.082361</td>\n",
              "      <td>-0.870669</td>\n",
              "      <td>-6.185643e-01</td>\n",
              "      <td>1.383955e-02</td>\n",
              "      <td>0.049684</td>\n",
              "      <td>0.102271</td>\n",
              "      <td>0.198776</td>\n",
              "      <td>-0.064109</td>\n",
              "      <td>-0.366313</td>\n",
              "      <td>2.985243</td>\n",
              "      <td>-0.128493</td>\n",
              "    </tr>\n",
              "    <tr>\n",
              "      <th>sqft_lot15</th>\n",
              "      <td>0.105511</td>\n",
              "      <td>0.098140</td>\n",
              "      <td>0.094213</td>\n",
              "      <td>0.062751</td>\n",
              "      <td>-2.154102e-01</td>\n",
              "      <td>-1.452768</td>\n",
              "      <td>0.070537</td>\n",
              "      <td>-0.031186</td>\n",
              "      <td>-0.021830</td>\n",
              "      <td>-0.030419</td>\n",
              "      <td>0.037834</td>\n",
              "      <td>-1.829785e-02</td>\n",
              "      <td>2.643026e-02</td>\n",
              "      <td>-0.011465</td>\n",
              "      <td>-0.022452</td>\n",
              "      <td>-0.007439</td>\n",
              "      <td>0.015897</td>\n",
              "      <td>-0.160563</td>\n",
              "      <td>-0.128493</td>\n",
              "      <td>2.149183</td>\n",
              "    </tr>\n",
              "  </tbody>\n",
              "</table>\n",
              "</div>"
            ],
            "text/plain": [
              "                     id     price  ...  sqft_living15  sqft_lot15\n",
              "id             1.028542  0.033760  ...       0.009239    0.105511\n",
              "price          0.033760  3.331694  ...      -0.134388    0.098140\n",
              "bedrooms       0.002267  0.301926  ...       0.013026    0.094213\n",
              "bathrooms     -0.005352 -0.287621  ...       0.103709    0.062751\n",
              "sqft_living    0.009202 -1.054373  ...      -0.942696   -0.214327\n",
              "sqft_lot       0.077219 -0.045685  ...       0.166587   -1.452768\n",
              "floors        -0.011600 -0.033158  ...       0.273838    0.070537\n",
              "waterfront     0.002765 -0.457218  ...       0.072970   -0.031186\n",
              "view          -0.037849 -0.369007  ...      -0.311082   -0.021830\n",
              "condition      0.022078 -0.155106  ...       0.082361   -0.030419\n",
              "grade         -0.048373 -1.024505  ...      -0.870669    0.037834\n",
              "sqft_above     0.010263 -0.410185  ...      -0.630526   -0.019275\n",
              "sqft_basement -0.010950 -0.094814  ...       0.007446    0.025908\n",
              "yr_built       0.023615  0.699138  ...       0.049684   -0.011465\n",
              "yr_renovated   0.017859 -0.071608  ...       0.102271   -0.022452\n",
              "zipcode        0.000315  0.282609  ...       0.198776   -0.007439\n",
              "lat            0.007458 -0.757054  ...      -0.064109    0.015897\n",
              "long          -0.072914  0.272064  ...      -0.366313   -0.160563\n",
              "sqft_living15  0.009239 -0.134388  ...       2.985243   -0.128493\n",
              "sqft_lot15     0.105511  0.098140  ...      -0.128493    2.149183\n",
              "\n",
              "[20 rows x 20 columns]"
            ]
          },
          "metadata": {
            "tags": []
          },
          "execution_count": 27
        }
      ]
    },
    {
      "cell_type": "code",
      "metadata": {
        "id": "RehRvki9oxsU",
        "colab_type": "code",
        "colab": {}
      },
      "source": [
        "# This function will calculate VIF and drop highly correlated variables\n",
        "\n",
        "from statsmodels.stats.outliers_influence import variance_inflation_factor    \n",
        "def calculate_vif_(X, thresh):\n",
        "  cols = X.columns\n",
        "  variables = np.arange(X.shape[1])\n",
        "  dropped=True\n",
        "  while dropped:\n",
        "      dropped=False\n",
        "      c = X[cols[variables]].values\n",
        "      vif = [variance_inflation_factor(c, ix) for ix in np.arange(c.shape[1])]\n",
        "      maxloc = vif.index(max(vif))\n",
        "      if max(vif) > thresh:\n",
        "          print('dropping \\'' + X[cols[variables]].columns[maxloc] + '\\' at index: ' + str(maxloc))\n",
        "          variables = np.delete(variables, maxloc)\n",
        "          dropped=True\n",
        "  print('Remaining variables:')\n",
        "  print(X.columns[variables])\n",
        "  return X[cols[variables]]"
      ],
      "execution_count": 29,
      "outputs": []
    },
    {
      "cell_type": "code",
      "metadata": {
        "id": "onojdpzJrVsI",
        "colab_type": "code",
        "colab": {
          "base_uri": "https://localhost:8080/",
          "height": 54
        },
        "outputId": "1835b105-0350-48ee-9544-4c5a64239e40"
      },
      "source": [
        "## Creating a linear regression model regression on the above dataset\n",
        "#\n",
        "from sklearn.linear_model import LinearRegression\n",
        "\n",
        "model1 = LinearRegression(fit_intercept = True, normalize = True)\n",
        "model1.fit(X, y)\n",
        "\n",
        "y_pred1 = model1.predict(X)\n",
        "\n",
        "print(\"Mean squared error: {0:.2f}\"\n",
        "      .format(np.mean((y_pred1 - y) ** 2)))\n",
        "print('Variance score: {0:.2f}'.format(model1.score(X, y)))"
      ],
      "execution_count": 46,
      "outputs": [
        {
          "output_type": "stream",
          "text": [
            "Mean squared error: 65401760052.79\n",
            "Variance score: 0.52\n"
          ],
          "name": "stdout"
        }
      ]
    },
    {
      "cell_type": "markdown",
      "metadata": {
        "id": "W57q8_1urmTs",
        "colab_type": "text"
      },
      "source": [
        "bartlett's test establishes a null hypothesis that the variance is equal for all our datapoints, and the alternate hypothesis that the variance is different for at least one pair of datapoints."
      ]
    },
    {
      "cell_type": "markdown",
      "metadata": {
        "id": "5NEtrjLrwGkF",
        "colab_type": "text"
      },
      "source": [
        "# **MODELLING**"
      ]
    },
    {
      "cell_type": "markdown",
      "metadata": {
        "id": "LJDenNckp6_H",
        "colab_type": "text"
      },
      "source": [
        "**LINEAR REGRESSION**"
      ]
    },
    {
      "cell_type": "code",
      "metadata": {
        "id": "EdLtswS8O-kD",
        "colab_type": "code",
        "colab": {}
      },
      "source": [
        "# Subsetting the data\n",
        "X = house_data1[['bedrooms', 'floors', 'grade', 'condition', 'lat', 'long' ]]\n",
        "y = house_data1['price']"
      ],
      "execution_count": 65,
      "outputs": []
    },
    {
      "cell_type": "code",
      "metadata": {
        "id": "5EwayedfO-pp",
        "colab_type": "code",
        "colab": {}
      },
      "source": [
        "# Dividing our data into training and test sets\n",
        "# ---\n",
        "# \n",
        "from sklearn.model_selection import train_test_split\n",
        "X_train, X_test, y_train, y_test = train_test_split(X, y, test_size=0.2, random_state=10)"
      ],
      "execution_count": 66,
      "outputs": []
    },
    {
      "cell_type": "code",
      "metadata": {
        "id": "2p7nUUo9O-iM",
        "colab_type": "code",
        "colab": {
          "base_uri": "https://localhost:8080/",
          "height": 35
        },
        "outputId": "a70b4176-9b94-4a69-ca0a-c3b11cff0233"
      },
      "source": [
        "# Training the Algorithm\n",
        "from sklearn.linear_model import LinearRegression\n",
        "regressor = LinearRegression()\n",
        "regressor.fit(X_train, y_train)"
      ],
      "execution_count": 67,
      "outputs": [
        {
          "output_type": "execute_result",
          "data": {
            "text/plain": [
              "LinearRegression(copy_X=True, fit_intercept=True, n_jobs=None, normalize=False)"
            ]
          },
          "metadata": {
            "tags": []
          },
          "execution_count": 67
        }
      ]
    },
    {
      "cell_type": "code",
      "metadata": {
        "id": "y-NoYKHrtYua",
        "colab_type": "code",
        "colab": {
          "base_uri": "https://localhost:8080/",
          "height": 228
        },
        "outputId": "62c581f5-2248-4ee0-b4f8-116e508aae8a"
      },
      "source": [
        "# coefficients for our test set attributes.  \n",
        "\n",
        "coeff_df = pd.DataFrame(regressor.coef_, X.columns, columns=['Coefficient'])\n",
        "coeff_df"
      ],
      "execution_count": 68,
      "outputs": [
        {
          "output_type": "execute_result",
          "data": {
            "text/html": [
              "<div>\n",
              "<style scoped>\n",
              "    .dataframe tbody tr th:only-of-type {\n",
              "        vertical-align: middle;\n",
              "    }\n",
              "\n",
              "    .dataframe tbody tr th {\n",
              "        vertical-align: top;\n",
              "    }\n",
              "\n",
              "    .dataframe thead th {\n",
              "        text-align: right;\n",
              "    }\n",
              "</style>\n",
              "<table border=\"1\" class=\"dataframe\">\n",
              "  <thead>\n",
              "    <tr style=\"text-align: right;\">\n",
              "      <th></th>\n",
              "      <th>Coefficient</th>\n",
              "    </tr>\n",
              "  </thead>\n",
              "  <tbody>\n",
              "    <tr>\n",
              "      <th>bedrooms</th>\n",
              "      <td>30723.575793</td>\n",
              "    </tr>\n",
              "    <tr>\n",
              "      <th>floors</th>\n",
              "      <td>-26339.145915</td>\n",
              "    </tr>\n",
              "    <tr>\n",
              "      <th>grade</th>\n",
              "      <td>207539.496117</td>\n",
              "    </tr>\n",
              "    <tr>\n",
              "      <th>condition</th>\n",
              "      <td>65487.086584</td>\n",
              "    </tr>\n",
              "    <tr>\n",
              "      <th>lat</th>\n",
              "      <td>587302.473465</td>\n",
              "    </tr>\n",
              "    <tr>\n",
              "      <th>long</th>\n",
              "      <td>-189847.533973</td>\n",
              "    </tr>\n",
              "  </tbody>\n",
              "</table>\n",
              "</div>"
            ],
            "text/plain": [
              "             Coefficient\n",
              "bedrooms    30723.575793\n",
              "floors     -26339.145915\n",
              "grade      207539.496117\n",
              "condition   65487.086584\n",
              "lat        587302.473465\n",
              "long      -189847.533973"
            ]
          },
          "metadata": {
            "tags": []
          },
          "execution_count": 68
        }
      ]
    },
    {
      "cell_type": "code",
      "metadata": {
        "id": "m-gxen4LtYyA",
        "colab_type": "code",
        "colab": {
          "base_uri": "https://localhost:8080/",
          "height": 407
        },
        "outputId": "14dfba94-6de7-40bc-d9e9-f7207d09f104"
      },
      "source": [
        "#lets make predictions compared side by side with the actual expected values\n",
        "\n",
        "y_pred = regressor.predict(X_test)\n",
        "\n",
        "# To compare the  output values (without sqft_living and sqft_above)\n",
        "# \n",
        "price_df = pd.DataFrame({'Actual': y_test, 'Predicted': y_pred})\n",
        "price_df"
      ],
      "execution_count": 69,
      "outputs": [
        {
          "output_type": "execute_result",
          "data": {
            "text/html": [
              "<div>\n",
              "<style scoped>\n",
              "    .dataframe tbody tr th:only-of-type {\n",
              "        vertical-align: middle;\n",
              "    }\n",
              "\n",
              "    .dataframe tbody tr th {\n",
              "        vertical-align: top;\n",
              "    }\n",
              "\n",
              "    .dataframe thead th {\n",
              "        text-align: right;\n",
              "    }\n",
              "</style>\n",
              "<table border=\"1\" class=\"dataframe\">\n",
              "  <thead>\n",
              "    <tr style=\"text-align: right;\">\n",
              "      <th></th>\n",
              "      <th>Actual</th>\n",
              "      <th>Predicted</th>\n",
              "    </tr>\n",
              "  </thead>\n",
              "  <tbody>\n",
              "    <tr>\n",
              "      <th>957</th>\n",
              "      <td>323000.0</td>\n",
              "      <td>2.965255e+05</td>\n",
              "    </tr>\n",
              "    <tr>\n",
              "      <th>14143</th>\n",
              "      <td>690000.0</td>\n",
              "      <td>4.845840e+05</td>\n",
              "    </tr>\n",
              "    <tr>\n",
              "      <th>19452</th>\n",
              "      <td>142000.0</td>\n",
              "      <td>-1.170788e+06</td>\n",
              "    </tr>\n",
              "    <tr>\n",
              "      <th>20510</th>\n",
              "      <td>560000.0</td>\n",
              "      <td>6.062524e+05</td>\n",
              "    </tr>\n",
              "    <tr>\n",
              "      <th>18354</th>\n",
              "      <td>545000.0</td>\n",
              "      <td>3.029679e+05</td>\n",
              "    </tr>\n",
              "    <tr>\n",
              "      <th>...</th>\n",
              "      <td>...</td>\n",
              "      <td>...</td>\n",
              "    </tr>\n",
              "    <tr>\n",
              "      <th>5349</th>\n",
              "      <td>386591.0</td>\n",
              "      <td>5.120106e+05</td>\n",
              "    </tr>\n",
              "    <tr>\n",
              "      <th>11082</th>\n",
              "      <td>344950.0</td>\n",
              "      <td>6.063553e+05</td>\n",
              "    </tr>\n",
              "    <tr>\n",
              "      <th>4413</th>\n",
              "      <td>1150000.0</td>\n",
              "      <td>1.002866e+06</td>\n",
              "    </tr>\n",
              "    <tr>\n",
              "      <th>17461</th>\n",
              "      <td>622200.0</td>\n",
              "      <td>4.795831e+05</td>\n",
              "    </tr>\n",
              "    <tr>\n",
              "      <th>9848</th>\n",
              "      <td>450000.0</td>\n",
              "      <td>6.379643e+05</td>\n",
              "    </tr>\n",
              "  </tbody>\n",
              "</table>\n",
              "<p>4323 rows × 2 columns</p>\n",
              "</div>"
            ],
            "text/plain": [
              "          Actual     Predicted\n",
              "957     323000.0  2.965255e+05\n",
              "14143   690000.0  4.845840e+05\n",
              "19452   142000.0 -1.170788e+06\n",
              "20510   560000.0  6.062524e+05\n",
              "18354   545000.0  3.029679e+05\n",
              "...          ...           ...\n",
              "5349    386591.0  5.120106e+05\n",
              "11082   344950.0  6.063553e+05\n",
              "4413   1150000.0  1.002866e+06\n",
              "17461   622200.0  4.795831e+05\n",
              "9848    450000.0  6.379643e+05\n",
              "\n",
              "[4323 rows x 2 columns]"
            ]
          },
          "metadata": {
            "tags": []
          },
          "execution_count": 69
        }
      ]
    },
    {
      "cell_type": "code",
      "metadata": {
        "id": "iob0F4aYuHER",
        "colab_type": "code",
        "colab": {
          "base_uri": "https://localhost:8080/",
          "height": 199
        },
        "outputId": "17a299cb-cdc5-4a97-e8e7-8b7e41f03f7f"
      },
      "source": [
        "# We now create the residual by substracting the test value from the predicted \n",
        "# value for each row in our dataset\n",
        "\n",
        "residuals = np.subtract(y_pred, y_test)\n",
        "\n",
        "# Let's describe our residual:\n",
        "print(pd.DataFrame(residuals).describe())\n",
        "\n",
        "residuals.mean()"
      ],
      "execution_count": 70,
      "outputs": [
        {
          "output_type": "stream",
          "text": [
            "              price\n",
            "count  4.323000e+03\n",
            "mean  -1.012093e+04\n",
            "std    2.718586e+05\n",
            "min   -5.898294e+06\n",
            "25%   -9.182808e+04\n",
            "50%    2.634274e+04\n",
            "75%    1.248489e+05\n",
            "max    6.638346e+05\n"
          ],
          "name": "stdout"
        },
        {
          "output_type": "execute_result",
          "data": {
            "text/plain": [
              "-10120.931190254063"
            ]
          },
          "metadata": {
            "tags": []
          },
          "execution_count": 70
        }
      ]
    },
    {
      "cell_type": "code",
      "metadata": {
        "id": "u5tY2keOuHBF",
        "colab_type": "code",
        "colab": {
          "base_uri": "https://localhost:8080/",
          "height": 318
        },
        "outputId": "a365a576-c921-45b1-caaf-505fedf9755d"
      },
      "source": [
        "# a plot to find the residual plot\n",
        "plt.scatter(y_pred, residuals, color='Blue')\n",
        "plt.ylabel('residual')\n",
        "plt.xlabel('fitted values')\n",
        "plt.axhline(y= residuals.mean(), color='black', linewidth=1)\n",
        "plt.show()"
      ],
      "execution_count": 71,
      "outputs": [
        {
          "output_type": "display_data",
          "data": {
            "image/png": "[encoded data removed]",
            "text/plain": [
              "<Figure size 432x288 with 1 Axes>"
            ]
          },
          "metadata": {
            "tags": []
          }
        }
      ]
    },
    {
      "cell_type": "markdown",
      "metadata": {
        "id": "nCenMePCv2AA",
        "colab_type": "text"
      },
      "source": [
        "its is observed that the mean is centered around 0 and most of our data is close to this value but we do have some on the negative side that are far from this mean. To find if there are any patterns in the data we perfom a heteroskedasticity test."
      ]
    },
    {
      "cell_type": "code",
      "metadata": {
        "id": "CQcQMq1avupL",
        "colab_type": "code",
        "colab": {
          "base_uri": "https://localhost:8080/",
          "height": 72
        },
        "outputId": "e0ae27d2-5cae-4879-da6e-c2ef414eef77"
      },
      "source": [
        "import scipy as sp\n",
        "\n",
        "test_result, p_value = sp.stats.bartlett(y_pred, residuals)\n",
        "\n",
        "# To interpret the results we must also compute a critical value of the chi squared distribution\n",
        "degree_of_freedom = len(y_pred)-1\n",
        "probability = 1 - p_value\n",
        "\n",
        "critical_value = sp.stats.chi2.ppf(probability, degree_of_freedom)\n",
        "print(critical_value)\n",
        "print(p_value)\n",
        "\n",
        "# If the test_result is greater than the critical value, then we reject our null\n",
        "# hypothesis. This would mean that there are patterns to the variance of the data\n",
        "\n",
        "# Otherwise, we can identify no patterns, and we accept the null hypothesis that \n",
        "# the variance is homogeneous across our data\n",
        "\n",
        "if (test_result > critical_value):\n",
        "  print('the variances are unequal, and the model should be reassessed')\n",
        "else:\n",
        "  print('the variances are homogeneous!')"
      ],
      "execution_count": 72,
      "outputs": [
        {
          "output_type": "stream",
          "text": [
            "4399.394783581041\n",
            "0.20194755378187207\n",
            "the variances are homogeneous!\n"
          ],
          "name": "stdout"
        }
      ]
    },
    {
      "cell_type": "markdown",
      "metadata": {
        "id": "kTHOQkvcwUiS",
        "colab_type": "text"
      },
      "source": [
        "**QUANTILE REGRESSION**"
      ]
    },
    {
      "cell_type": "code",
      "metadata": {
        "id": "ktJz9AwLvul1",
        "colab_type": "code",
        "colab": {
          "base_uri": "https://localhost:8080/",
          "height": 417
        },
        "outputId": "0039b7c4-54a7-49e7-e14a-325659d8689e"
      },
      "source": [
        "# prepare the quantile that we want to work with\n",
        "#quantile reg\n",
        "import statsmodels.formula.api as smf\n",
        "\n",
        "# Dividing our data into training and test sets\n",
        "# ---\n",
        "# \n",
        "from sklearn.model_selection import train_test_split\n",
        "x_train, x_test, y_train, y_test = train_test_split(X, y, test_size=0.2, random_state=10)\n",
        "\n",
        "# Finding the regression coefficients for the conditioned median, 0.5 quantile\n",
        "#\n",
        "mod = smf.quantreg('y ~ X', house_data1)\n",
        "res = mod.fit(q=.5)\n",
        "\n",
        "# Then print out the summary of our model\n",
        "#\n",
        "print(res.summary())"
      ],
      "execution_count": 84,
      "outputs": [
        {
          "output_type": "stream",
          "text": [
            "                         QuantReg Regression Results                          \n",
            "==============================================================================\n",
            "Dep. Variable:                      y   Pseudo R-squared:               0.3576\n",
            "Model:                       QuantReg   Bandwidth:                   2.410e+04\n",
            "Method:                 Least Squares   Sparsity:                    3.240e+05\n",
            "Date:                Fri, 25 Sep 2020   No. Observations:                21613\n",
            "Time:                        10:23:14   Df Residuals:                    21606\n",
            "                                        Df Model:                            6\n",
            "==============================================================================\n",
            "                 coef    std err          t      P>|t|      [0.025      0.975]\n",
            "------------------------------------------------------------------------------\n",
            "Intercept  -3.381e+07   1.01e+06    -33.531      0.000   -3.58e+07   -3.18e+07\n",
            "X[0]        2.828e+04   1278.379     22.120      0.000    2.58e+04    3.08e+04\n",
            "X[1]        8450.3190   2358.011      3.584      0.000    3828.444    1.31e+04\n",
            "X[2]        1.365e+05   1133.184    120.481      0.000    1.34e+05    1.39e+05\n",
            "X[3]        4.762e+04   1769.475     26.912      0.000    4.42e+04    5.11e+04\n",
            "X[4]        5.965e+05   8121.015     73.447      0.000    5.81e+05    6.12e+05\n",
            "X[5]       -3.782e+04   8136.032     -4.648      0.000   -5.38e+04   -2.19e+04\n",
            "==============================================================================\n",
            "\n",
            "The condition number is large, 1.2e+05. This might indicate that there are\n",
            "strong multicollinearity or other numerical problems.\n"
          ],
          "name": "stdout"
        }
      ]
    },
    {
      "cell_type": "code",
      "metadata": {
        "id": "jqOtf_hOykS1",
        "colab_type": "code",
        "colab": {
          "base_uri": "https://localhost:8080/",
          "height": 1000
        },
        "outputId": "4884d923-a6cf-428d-b3b2-eac67e4db068"
      },
      "source": [
        "res1 = mod.fit(q = 0.25)\n",
        "res3 = mod.fit(q = 0.5)\n",
        "res4 = mod.fit(q = 0.75)\n",
        "\n",
        "# display the results \n",
        "print(\"25th Percentile: \", res1.summary(), '\\n***************\\n')\n",
        "print(\"\\n50th Percentile: \", res3.summary(), '\\n***************\\n')\n",
        "print(\"\\n75th Percentile: \", res4.summary())"
      ],
      "execution_count": 87,
      "outputs": [
        {
          "output_type": "stream",
          "text": [
            "25th Percentile:                           QuantReg Regression Results                          \n",
            "==============================================================================\n",
            "Dep. Variable:                      y   Pseudo R-squared:               0.3329\n",
            "Model:                       QuantReg   Bandwidth:                   2.125e+04\n",
            "Method:                 Least Squares   Sparsity:                    3.158e+05\n",
            "Date:                Fri, 25 Sep 2020   No. Observations:                21613\n",
            "Time:                        10:27:34   Df Residuals:                    21606\n",
            "                                        Df Model:                            6\n",
            "==============================================================================\n",
            "                 coef    std err          t      P>|t|      [0.025      0.975]\n",
            "------------------------------------------------------------------------------\n",
            "Intercept  -1.572e+07   8.33e+05    -18.868      0.000   -1.74e+07   -1.41e+07\n",
            "X[0]        2.445e+04   1131.215     21.615      0.000    2.22e+04    2.67e+04\n",
            "X[1]        6680.1388   2109.536      3.167      0.002    2545.292    1.08e+04\n",
            "X[2]        1.119e+05    858.776    130.341      0.000     1.1e+05    1.14e+05\n",
            "X[3]        3.373e+04   1443.692     23.366      0.000    3.09e+04    3.66e+04\n",
            "X[4]        4.815e+05   7839.052     61.421      0.000    4.66e+05    4.97e+05\n",
            "X[5]        6.413e+04   6893.037      9.304      0.000    5.06e+04    7.76e+04\n",
            "==============================================================================\n",
            "\n",
            "The condition number is large, 1.2e+05. This might indicate that there are\n",
            "strong multicollinearity or other numerical problems. \n",
            "***************\n",
            "\n",
            "\n",
            "50th Percentile:                           QuantReg Regression Results                          \n",
            "==============================================================================\n",
            "Dep. Variable:                      y   Pseudo R-squared:               0.3576\n",
            "Model:                       QuantReg   Bandwidth:                   2.410e+04\n",
            "Method:                 Least Squares   Sparsity:                    3.240e+05\n",
            "Date:                Fri, 25 Sep 2020   No. Observations:                21613\n",
            "Time:                        10:27:35   Df Residuals:                    21606\n",
            "                                        Df Model:                            6\n",
            "==============================================================================\n",
            "                 coef    std err          t      P>|t|      [0.025      0.975]\n",
            "------------------------------------------------------------------------------\n",
            "Intercept  -3.381e+07   1.01e+06    -33.531      0.000   -3.58e+07   -3.18e+07\n",
            "X[0]        2.828e+04   1278.379     22.120      0.000    2.58e+04    3.08e+04\n",
            "X[1]        8450.3190   2358.011      3.584      0.000    3828.444    1.31e+04\n",
            "X[2]        1.365e+05   1133.184    120.481      0.000    1.34e+05    1.39e+05\n",
            "X[3]        4.762e+04   1769.475     26.912      0.000    4.42e+04    5.11e+04\n",
            "X[4]        5.965e+05   8121.015     73.447      0.000    5.81e+05    6.12e+05\n",
            "X[5]       -3.782e+04   8136.032     -4.648      0.000   -5.38e+04   -2.19e+04\n",
            "==============================================================================\n",
            "\n",
            "The condition number is large, 1.2e+05. This might indicate that there are\n",
            "strong multicollinearity or other numerical problems. \n",
            "***************\n",
            "\n",
            "\n",
            "75th Percentile:                           QuantReg Regression Results                          \n",
            "==============================================================================\n",
            "Dep. Variable:                      y   Pseudo R-squared:               0.3747\n",
            "Model:                       QuantReg   Bandwidth:                   2.274e+04\n",
            "Method:                 Least Squares   Sparsity:                    5.280e+05\n",
            "Date:                Fri, 25 Sep 2020   No. Observations:                21613\n",
            "Time:                        10:27:35   Df Residuals:                    21606\n",
            "                                        Df Model:                            6\n",
            "==============================================================================\n",
            "                 coef    std err          t      P>|t|      [0.025      0.975]\n",
            "------------------------------------------------------------------------------\n",
            "Intercept  -5.224e+07   1.55e+06    -33.647      0.000   -5.53e+07   -4.92e+07\n",
            "X[0]        3.094e+04   1837.342     16.841      0.000    2.73e+04    3.45e+04\n",
            "X[1]       -2909.9328   3206.331     -0.908      0.364   -9194.578    3374.712\n",
            "X[2]        1.714e+05   1952.525     87.787      0.000    1.68e+05    1.75e+05\n",
            "X[3]        6.259e+04   2657.355     23.554      0.000    5.74e+04    6.78e+04\n",
            "X[4]        6.963e+05   1.01e+04     68.924      0.000    6.77e+05    7.16e+05\n",
            "X[5]       -1.482e+05   1.22e+04    -12.164      0.000   -1.72e+05   -1.24e+05\n",
            "==============================================================================\n",
            "\n",
            "The condition number is large, 1.2e+05. This might indicate that there are\n",
            "strong multicollinearity or other numerical problems.\n"
          ],
          "name": "stdout"
        }
      ]
    },
    {
      "cell_type": "markdown",
      "metadata": {
        "id": "ZoXwWm4Ozxq2",
        "colab_type": "text"
      },
      "source": [
        "Quantile regression is not useful when their coefficients are almost similar to the multiple linear regression."
      ]
    },
    {
      "cell_type": "markdown",
      "metadata": {
        "id": "HisMF-Iyz_Wy",
        "colab_type": "text"
      },
      "source": [
        "ALGORITHM EVALUATION"
      ]
    },
    {
      "cell_type": "code",
      "metadata": {
        "id": "7Hocz3rlykVh",
        "colab_type": "code",
        "colab": {
          "base_uri": "https://localhost:8080/",
          "height": 72
        },
        "outputId": "d270535a-3227-4a43-f707-fc712405f067"
      },
      "source": [
        "from sklearn import metrics\n",
        "print('Mean Absolute Error:', metrics.mean_absolute_error(y_test, y_pred))\n",
        "print('Mean Squared Error:', metrics.mean_squared_error(y_test, y_pred))\n",
        "print('Root Mean Squared Error:', np.sqrt(metrics.mean_squared_error(y_test, y_pred)))"
      ],
      "execution_count": 90,
      "outputs": [
        {
          "output_type": "stream",
          "text": [
            "Mean Absolute Error: 157304.4569208007\n",
            "Mean Squared Error: 73992413389.70203\n",
            "Root Mean Squared Error: 272015.4653502297\n"
          ],
          "name": "stdout"
        }
      ]
    },
    {
      "cell_type": "code",
      "metadata": {
        "id": "L9zgJ-OO0I_Y",
        "colab_type": "code",
        "colab": {
          "base_uri": "https://localhost:8080/",
          "height": 35
        },
        "outputId": "3ea04e42-2d5a-4984-eca2-59fda08e2033"
      },
      "source": [
        "#R2 score\n",
        "from sklearn.metrics import r2_score\n",
        "q = r2_score(y_test, y_pred)\n",
        "q\n"
      ],
      "execution_count": 91,
      "outputs": [
        {
          "output_type": "execute_result",
          "data": {
            "text/plain": [
              "0.4941359343595876"
            ]
          },
          "metadata": {
            "tags": []
          },
          "execution_count": 91
        }
      ]
    },
    {
      "cell_type": "markdown",
      "metadata": {
        "id": "pVMXY3hY0OhF",
        "colab_type": "text"
      },
      "source": [
        "we have an accuracy of  49.41%"
      ]
    },
    {
      "cell_type": "markdown",
      "metadata": {
        "id": "B63xcDWw0aTv",
        "colab_type": "text"
      },
      "source": [
        "**RIDGE REGRESSION**"
      ]
    },
    {
      "cell_type": "code",
      "metadata": {
        "id": "STjk6U3E0JC6",
        "colab_type": "code",
        "colab": {}
      },
      "source": [
        "#LETS IMPORT\n",
        "\n",
        "from sklearn.model_selection import GridSearchCV\n",
        "from sklearn.linear_model import Ridge\n",
        "from sklearn.linear_model import LinearRegression\n",
        "from sklearn.metrics import mean_squared_error\n"
      ],
      "execution_count": 92,
      "outputs": []
    },
    {
      "cell_type": "code",
      "metadata": {
        "id": "H5SFHi0t0w_D",
        "colab_type": "code",
        "colab": {}
      },
      "source": [
        "# predictors and predicted features\n",
        "\n",
        "x = house_data1[['bedrooms', 'floors', 'grade', 'condition', 'lat', 'long']]\n",
        "y = house_data1['price']"
      ],
      "execution_count": 93,
      "outputs": []
    },
    {
      "cell_type": "code",
      "metadata": {
        "id": "e4yytWPb0xFi",
        "colab_type": "code",
        "colab": {}
      },
      "source": [
        "# Splitting the dataset into training and testing sets\n",
        "#\n",
        "x_train, x_test, y_train, y_test = train_test_split(x, y, test_size = 0.25, random_state = 10)\n",
        "scaler = StandardScaler()\n",
        "x = scaler.fit_transform(x)"
      ],
      "execution_count": 94,
      "outputs": []
    },
    {
      "cell_type": "code",
      "metadata": {
        "id": "Hel6O6X_0xMH",
        "colab_type": "code",
        "colab": {
          "base_uri": "https://localhost:8080/",
          "height": 35
        },
        "outputId": "6761624f-db45-443f-aa2e-d187236fd945"
      },
      "source": [
        "# Creating our baseline regression model\n",
        "# This is a model that has no regularization\n",
        "# \n",
        "regression = LinearRegression()\n",
        "regression.fit(x_train,y_train)\n",
        "y_pred=regression.predict(x_test)\n",
        "first_model = (mean_squared_error(y_test, y_pred))\n",
        "\n",
        "print(first_model)"
      ],
      "execution_count": 95,
      "outputs": [
        {
          "output_type": "stream",
          "text": [
            "69886559134.27654\n"
          ],
          "name": "stdout"
        }
      ]
    },
    {
      "cell_type": "code",
      "metadata": {
        "id": "zKwYwqxY0xQD",
        "colab_type": "code",
        "colab": {}
      },
      "source": [
        "# determining the most appropriate value for the l2 regularization.\n",
        " \n",
        "ridge = Ridge(normalize=True)\n",
        "search = GridSearchCV(estimator=ridge,param_grid={'alpha':np.logspace(-5,2,8)},scoring='neg_mean_squared_error',n_jobs=1,refit=True,cv=10)"
      ],
      "execution_count": 96,
      "outputs": []
    },
    {
      "cell_type": "code",
      "metadata": {
        "id": "ikHtoNTT0xV1",
        "colab_type": "code",
        "colab": {
          "base_uri": "https://localhost:8080/",
          "height": 54
        },
        "outputId": "5ceeed4a-86f4-4cca-aecb-b188750b1d85"
      },
      "source": [
        "# We now use the .fit function to run the model and then use the .best_params_ and\n",
        "#  .best_scores_ function to determine the models strength. \n",
        "# \n",
        "search.fit(x_train,y_train)\n",
        "print(search.best_params_)\n",
        "\n",
        "print(search.best_score_)"
      ],
      "execution_count": 99,
      "outputs": [
        {
          "output_type": "stream",
          "text": [
            "{'alpha': 0.0001}\n",
            "-61573178717.73845\n"
          ],
          "name": "stdout"
        }
      ]
    },
    {
      "cell_type": "code",
      "metadata": {
        "id": "Bn3NUIEy0xKu",
        "colab_type": "code",
        "colab": {
          "base_uri": "https://localhost:8080/",
          "height": 35
        },
        "outputId": "6a9b0724-0e9a-4d3c-e0aa-3b21ebb09a42"
      },
      "source": [
        "# We can confirm this by fitting our model with the ridge information and finding the mean squared error below\n",
        "#\n",
        "ridge = Ridge(normalize=True,alpha=0.001)\n",
        "ridge.fit(x_train,y_train)\n",
        "second_model = (mean_squared_error(y_true=y_test,y_pred=ridge.predict(x_test)))\n",
        "print(second_model)"
      ],
      "execution_count": 100,
      "outputs": [
        {
          "output_type": "stream",
          "text": [
            "69881767189.9768\n"
          ],
          "name": "stdout"
        }
      ]
    },
    {
      "cell_type": "code",
      "metadata": {
        "id": "h7UmB2q60xJH",
        "colab_type": "code",
        "colab": {
          "base_uri": "https://localhost:8080/",
          "height": 407
        },
        "outputId": "e10f54a4-27c0-4860-b220-6499fde989a5"
      },
      "source": [
        "# Making predictions\n",
        "#\n",
        "y_pred = ridge.predict(x_test)\n",
        "y_pred\n",
        "# To compare the actual output values for P_test with the predicted values\n",
        "# \n",
        "r = pd.DataFrame({'Actual': y_test, 'Predicted': y_pred})\n",
        "r"
      ],
      "execution_count": 102,
      "outputs": [
        {
          "output_type": "execute_result",
          "data": {
            "text/html": [
              "<div>\n",
              "<style scoped>\n",
              "    .dataframe tbody tr th:only-of-type {\n",
              "        vertical-align: middle;\n",
              "    }\n",
              "\n",
              "    .dataframe tbody tr th {\n",
              "        vertical-align: top;\n",
              "    }\n",
              "\n",
              "    .dataframe thead th {\n",
              "        text-align: right;\n",
              "    }\n",
              "</style>\n",
              "<table border=\"1\" class=\"dataframe\">\n",
              "  <thead>\n",
              "    <tr style=\"text-align: right;\">\n",
              "      <th></th>\n",
              "      <th>Actual</th>\n",
              "      <th>Predicted</th>\n",
              "    </tr>\n",
              "  </thead>\n",
              "  <tbody>\n",
              "    <tr>\n",
              "      <th>957</th>\n",
              "      <td>323000.0</td>\n",
              "      <td>2.956665e+05</td>\n",
              "    </tr>\n",
              "    <tr>\n",
              "      <th>14143</th>\n",
              "      <td>690000.0</td>\n",
              "      <td>4.840009e+05</td>\n",
              "    </tr>\n",
              "    <tr>\n",
              "      <th>19452</th>\n",
              "      <td>142000.0</td>\n",
              "      <td>-1.171911e+06</td>\n",
              "    </tr>\n",
              "    <tr>\n",
              "      <th>20510</th>\n",
              "      <td>560000.0</td>\n",
              "      <td>6.091984e+05</td>\n",
              "    </tr>\n",
              "    <tr>\n",
              "      <th>18354</th>\n",
              "      <td>545000.0</td>\n",
              "      <td>3.012873e+05</td>\n",
              "    </tr>\n",
              "    <tr>\n",
              "      <th>...</th>\n",
              "      <td>...</td>\n",
              "      <td>...</td>\n",
              "    </tr>\n",
              "    <tr>\n",
              "      <th>6939</th>\n",
              "      <td>800000.0</td>\n",
              "      <td>6.160179e+05</td>\n",
              "    </tr>\n",
              "    <tr>\n",
              "      <th>19910</th>\n",
              "      <td>430000.0</td>\n",
              "      <td>2.591150e+05</td>\n",
              "    </tr>\n",
              "    <tr>\n",
              "      <th>20466</th>\n",
              "      <td>750000.0</td>\n",
              "      <td>8.665151e+05</td>\n",
              "    </tr>\n",
              "    <tr>\n",
              "      <th>14961</th>\n",
              "      <td>1480000.0</td>\n",
              "      <td>1.025887e+06</td>\n",
              "    </tr>\n",
              "    <tr>\n",
              "      <th>8722</th>\n",
              "      <td>625000.0</td>\n",
              "      <td>7.492591e+05</td>\n",
              "    </tr>\n",
              "  </tbody>\n",
              "</table>\n",
              "<p>5404 rows × 2 columns</p>\n",
              "</div>"
            ],
            "text/plain": [
              "          Actual     Predicted\n",
              "957     323000.0  2.956665e+05\n",
              "14143   690000.0  4.840009e+05\n",
              "19452   142000.0 -1.171911e+06\n",
              "20510   560000.0  6.091984e+05\n",
              "18354   545000.0  3.012873e+05\n",
              "...          ...           ...\n",
              "6939    800000.0  6.160179e+05\n",
              "19910   430000.0  2.591150e+05\n",
              "20466   750000.0  8.665151e+05\n",
              "14961  1480000.0  1.025887e+06\n",
              "8722    625000.0  7.492591e+05\n",
              "\n",
              "[5404 rows x 2 columns]"
            ]
          },
          "metadata": {
            "tags": []
          },
          "execution_count": 102
        }
      ]
    },
    {
      "cell_type": "code",
      "metadata": {
        "id": "mQ5UX3V90xEb",
        "colab_type": "code",
        "colab": {
          "base_uri": "https://localhost:8080/",
          "height": 35
        },
        "outputId": "519d743e-fafc-482a-a7ed-9bdf5569f8a0"
      },
      "source": [
        "# CHecking accuracy using R2 score\n",
        "\n",
        "\n",
        "from sklearn.metrics import r2_score\n",
        "r = r2_score(y_test, y_pred)\n",
        "r"
      ],
      "execution_count": 103,
      "outputs": [
        {
          "output_type": "execute_result",
          "data": {
            "text/plain": [
              "0.5035453381757456"
            ]
          },
          "metadata": {
            "tags": []
          },
          "execution_count": 103
        }
      ]
    },
    {
      "cell_type": "markdown",
      "metadata": {
        "id": "KsPeDWVb2A5P",
        "colab_type": "text"
      },
      "source": [
        "Ridge regression model is 50.35% accurate"
      ]
    },
    {
      "cell_type": "markdown",
      "metadata": {
        "id": "Is_DYz3B2IOk",
        "colab_type": "text"
      },
      "source": [
        "**LASSO REGRESSION**"
      ]
    },
    {
      "cell_type": "code",
      "metadata": {
        "id": "8ozQFUPQ2k-i",
        "colab_type": "code",
        "colab": {}
      },
      "source": [
        "\n",
        "m = house_data1.drop(['price'], axis=1)\n",
        "n = house_data1['price']\n",
        "m_train, m_test, n_train, n_test = train_test_split(m, n, test_size = 0.2, random_state = 100)\n",
        "\n",
        "regressor = LinearRegression()\n",
        "regressor.fit(m,n)\n",
        "# Scaling data \n",
        "#\n",
        "scaler = StandardScaler()\n",
        "scaler.fit(m)\n",
        "X_= scaler.transform(m)"
      ],
      "execution_count": 109,
      "outputs": []
    },
    {
      "cell_type": "code",
      "metadata": {
        "id": "nQbRKTpv0xCS",
        "colab_type": "code",
        "colab": {
          "base_uri": "https://localhost:8080/",
          "height": 90
        },
        "outputId": "0d41db42-dc0f-4f40-8d2c-24b91727e31f"
      },
      "source": [
        "# Creating lasso object\n",
        "# \n",
        "from sklearn import linear_model\n",
        "lasso = linear_model.Lasso() \n",
        "\n",
        "# Fitting the models\n",
        "# \n",
        "lasso.fit(m, n) \n",
        "\n",
        "# Print scores, MSE, and coefficients\n",
        "# \n",
        "print(\"lasso score:\", lasso.score(m, n)) \n",
        "print(\"lasso MSE:\", mean_squared_error(n, lasso.predict(m))) \n",
        "print(\"lasso coef:\", lasso.coef_)"
      ],
      "execution_count": 110,
      "outputs": [
        {
          "output_type": "stream",
          "text": [
            "lasso score: 0.5289222022761232\n",
            "lasso MSE: 63571367084.78601\n",
            "lasso coef: [  34687.83731804  -20647.0971399   204863.46494298   65669.84211772\n",
            " -190318.82124195  599857.533572  ]\n"
          ],
          "name": "stdout"
        }
      ]
    },
    {
      "cell_type": "code",
      "metadata": {
        "id": "nUvYX2OB2MzH",
        "colab_type": "code",
        "colab": {
          "base_uri": "https://localhost:8080/",
          "height": 201
        },
        "outputId": "de8730da-7bd3-43aa-efaf-2ee361b64201"
      },
      "source": [
        "# In this case, a model with the highest R-squared score will give us the best parameters.\n",
        "# \n",
        "\n",
        "# Making necessary imports, split data into training and test sets, and choose a set of parameters \n",
        "from sklearn.model_selection import train_test_split\n",
        "from sklearn.model_selection import GridSearchCV\n",
        "import warnings\n",
        "warnings.filterwarnings(\"ignore\")\n",
        "\n",
        "m_train, m_test, n_train, n_test = train_test_split(m, n, test_size=0.25, random_state=101)\n",
        "parameters = {'alpha': np.concatenate((np.arange(0.1,2,0.1), np.arange(2, 5, 0.5), np.arange(5, 25, 1)))}\n",
        "\n",
        "linear = linear_model.LinearRegression()\n",
        "lasso = linear_model.Lasso() \n",
        "gridlasso = GridSearchCV(lasso, parameters, scoring ='r2') \n",
        "\n",
        "# Fitting models and print the best parameters, R-squared scores, MSE, and coefficients\n",
        "gridlasso.fit(m_train, n_train) \n",
        "linear.fit(m_train, n_train) \n",
        "print(\"lasso best parameters:\", gridlasso.best_params_) \n",
        "print(\"lasso score:\", gridlasso.score(m_test, n_test))\n",
        "print(\"linear score:\", linear.score(m_test, n_test)) \n",
        "print(\"lasso MSE:\", mean_squared_error(n_test, gridlasso.predict(m_test)))\n",
        "print(\"linear MSE:\", mean_squared_error(n_test, linear.predict(m_test))) \n",
        "print(\"lasso best estimator coef:\", gridlasso.best_estimator_.coef_)\n",
        "print(\"linear coef:\", linear.coef_)"
      ],
      "execution_count": 111,
      "outputs": [
        {
          "output_type": "stream",
          "text": [
            "lasso best parameters: {'alpha': 24.0}\n",
            "lasso score: 0.5292371935303516\n",
            "linear score: 0.5292382459437718\n",
            "lasso MSE: 66832723408.542564\n",
            "linear MSE: 66832574000.70053\n",
            "lasso best estimator coef: [  36761.92193941  -16551.06130556  201743.22789068   68972.07023821\n",
            " -187241.38543137  601638.67025157]\n",
            "linear coef: [  36806.4995282   -16655.59191768  201782.68487155   68992.74958773\n",
            " -188338.82293009  602725.64440459]\n"
          ],
          "name": "stdout"
        }
      ]
    },
    {
      "cell_type": "markdown",
      "metadata": {
        "id": "pwhMbw823lu_",
        "colab_type": "text"
      },
      "source": [
        "the basemodel MSE is 66832574000.70053  and after applying Lasso it has reduced to 66832723408.542564\n",
        "\n",
        "when predictors are highly correlated, lasso picks only one of them and shrinks the others to zero.\n",
        "\n",
        "\n"
      ]
    },
    {
      "cell_type": "code",
      "metadata": {
        "id": "3zc3kNL42Mvr",
        "colab_type": "code",
        "colab": {
          "base_uri": "https://localhost:8080/",
          "height": 500
        },
        "outputId": "bd573551-0b33-495b-82e5-99beb2953a57"
      },
      "source": [
        "# Importing library for visualization\n",
        "#\n",
        "import matplotlib.pyplot as plt\n",
        "coefsLasso = [] \n",
        "\n",
        "# Building Lasso for 200 values of alpha and write the coefficients into array\n",
        "# \n",
        "alphasLasso = np.arange (0, 20, 0.1) \n",
        "for i in range(200):\n",
        "    lasso = linear_model.Lasso(alpha=alphasLasso[i])\n",
        "    lasso.fit(m_train, n_train)\n",
        "    coefsLasso.append(lasso.coef_) \n",
        "\n",
        "# Building Lasso coefficient plots\n",
        "# \n",
        "plt.figure(figsize = (16,7))\n",
        "\n",
        "plt.subplot(121)\n",
        "plt.plot(alphasLasso, coefsLasso)\n",
        "plt.title('Lasso coefficients')\n",
        "plt.xlabel('alpha')\n",
        "plt.ylabel('coefs')\n",
        "\n",
        "plt.show()"
      ],
      "execution_count": 112,
      "outputs": [
        {
          "output_type": "display_data",
          "data": {
            "image/png": "[encoded data removed]",
            "text/plain": [
              "<Figure size 1152x504 with 1 Axes>"
            ]
          },
          "metadata": {
            "tags": []
          }
        }
      ]
    },
    {
      "cell_type": "markdown",
      "metadata": {
        "id": "odkjT7hW4H2Y",
        "colab_type": "text"
      },
      "source": [
        "**ELASTIC NET REGRESSION**"
      ]
    },
    {
      "cell_type": "code",
      "metadata": {
        "id": "pZ9xc18t4GTs",
        "colab_type": "code",
        "colab": {
          "base_uri": "https://localhost:8080/",
          "height": 35
        },
        "outputId": "b5a062ea-4e66-475d-8b05-6de8482fee70"
      },
      "source": [
        "p = house_data1.drop(['price'], axis=1)\n",
        "q = house_data1['price']\n",
        "\n",
        "# Creating our linear regression model for the purpose of comparison\n",
        "# we will use this MSE TO compare with elastic net\n",
        "regression=LinearRegression()\n",
        "regression.fit(p,q)\n",
        "first_model=(mean_squared_error(y_true=q,y_pred=regression.predict(p)))\n",
        "print(first_model) \n"
      ],
      "execution_count": 115,
      "outputs": [
        {
          "output_type": "stream",
          "text": [
            "63571366984.99258\n"
          ],
          "name": "stdout"
        }
      ]
    },
    {
      "cell_type": "code",
      "metadata": {
        "id": "Yh1BSwmU4GPD",
        "colab_type": "code",
        "colab": {
          "base_uri": "https://localhost:8080/",
          "height": 126
        },
        "outputId": "994fad80-d17a-4e27-b5a7-25ab0050a26e"
      },
      "source": [
        "#checking the baseline\n",
        "coef_dict_baseline = {}\n",
        "for coef, feat in zip(regression.coef_,p.columns):\n",
        "    coef_dict_baseline[feat] = coef\n",
        "coef_dict_baseline"
      ],
      "execution_count": 116,
      "outputs": [
        {
          "output_type": "execute_result",
          "data": {
            "text/plain": [
              "{'bedrooms': 34689.59631174431,\n",
              " 'condition': 65670.70973286456,\n",
              " 'floors': -20651.412336534355,\n",
              " 'grade': 204865.17250730866,\n",
              " 'lat': 599902.5981765736,\n",
              " 'long': -190365.06865277226}"
            ]
          },
          "metadata": {
            "tags": []
          },
          "execution_count": 116
        }
      ]
    },
    {
      "cell_type": "code",
      "metadata": {
        "id": "1prRN5f_4GNO",
        "colab_type": "code",
        "colab": {}
      },
      "source": [
        "#  we need to do is create our grid.\n",
        "# \n",
        "from sklearn.linear_model import ElasticNet\n",
        "elastic=ElasticNet(normalize=True)\n",
        "search=GridSearchCV(estimator=elastic,param_grid={'alpha':np.logspace(-5,2,8),'l1_ratio':[.2,.4,.6,.8]},scoring='neg_mean_squared_error',n_jobs=1,refit=True,cv=10)"
      ],
      "execution_count": 117,
      "outputs": []
    },
    {
      "cell_type": "code",
      "metadata": {
        "id": "NYNXt8ow40vC",
        "colab_type": "code",
        "colab": {
          "base_uri": "https://localhost:8080/",
          "height": 35
        },
        "outputId": "32a9e8b5-559f-469d-e199-ea79b0b4f939"
      },
      "source": [
        "# thereafter we fit the model to create best parameters\n",
        "search.fit(p,q)\n",
        "search.best_params_\n",
        "abs(search.best_score_)"
      ],
      "execution_count": 118,
      "outputs": [
        {
          "output_type": "execute_result",
          "data": {
            "text/plain": [
              "64065510429.938"
            ]
          },
          "metadata": {
            "tags": []
          },
          "execution_count": 118
        }
      ]
    },
    {
      "cell_type": "markdown",
      "metadata": {
        "id": "dI91rSiV5GdW",
        "colab_type": "text"
      },
      "source": [
        "This shows that my base model MSE is lower than the best score by Elastic net regression."
      ]
    },
    {
      "cell_type": "markdown",
      "metadata": {
        "id": "uww4ycWW5cEF",
        "colab_type": "text"
      },
      "source": [
        "**CHALLENGING THE SOLUTION AND CONCLUSION**"
      ]
    },
    {
      "cell_type": "markdown",
      "metadata": {
        "id": "tXIjPw37oSd4",
        "colab_type": "text"
      },
      "source": [
        "\n",
        "1.The bathrooms and floors had float type datatypes, i did not change these data types.From extensive research on houses i found that - Number of bathrooms, where 0.5 accounts for a room with a toilet but no shower\n",
        "\n",
        "2.The MSE's for the four models are quite huge. No outliers or anomalies were removed, and also the high variance seen.\n",
        "\n",
        "\n",
        "IN CONCLUSION, we can observe that  lasso and Quantile regression perform a bit better in terms of MSEs"
      ]
    }
  ]
}